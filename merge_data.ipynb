{
 "cells": [
  {
   "cell_type": "code",
   "execution_count": 1,
   "metadata": {},
   "outputs": [],
   "source": [
    "import pandas as pd\n",
    "import numpy as np"
   ]
  },
  {
   "cell_type": "code",
   "execution_count": 137,
   "metadata": {},
   "outputs": [],
   "source": [
    "import pandas as pd\n",
    "from IPython.display import display\n",
    "pd.options.display.max_columns = 5000\n"
   ]
  },
  {
   "cell_type": "code",
   "execution_count": 27,
   "metadata": {},
   "outputs": [],
   "source": [
    "house_raw = pd.read_csv('data/train.csv')"
   ]
  },
  {
   "cell_type": "code",
   "execution_count": 96,
   "metadata": {},
   "outputs": [],
   "source": [
    "house_ty = pd.read_pickle('Ty/house_ty.pkl')\n",
    "house_bird = pd.read_pickle('Bird/Bird4.pkl')\n",
    "house_phil = pd.read_pickle('Phil/house_phil.pkl')\n",
    "house_ray = pd.read_pickle('Ray/house_ray.plk')\n",
    "house_df = pd.concat([house_ty, house_bird, house_phil, house_ray], axis = 1)"
   ]
  },
  {
   "cell_type": "markdown",
   "metadata": {},
   "source": [
    "# Get duplicate collumn names "
   ]
  },
  {
   "cell_type": "code",
   "execution_count": 62,
   "metadata": {},
   "outputs": [],
   "source": [
    "original_cols_cleaned = list(filter(lambda x: not '_' in x, col_names))\n",
    "original_cols_cleaned"
   ]
  },
  {
   "cell_type": "code",
   "execution_count": 64,
   "metadata": {
    "scrolled": true
   },
   "outputs": [
    {
     "data": {
      "text/plain": [
       "['RoofStyle',\n",
       " 'BsmtFullBath',\n",
       " 'BsmtHalfBath',\n",
       " 'FullBath',\n",
       " 'HalfBath',\n",
       " 'BedroomAbvGr',\n",
       " 'KitchenAbvGr',\n",
       " 'TotRmsAbvGrd',\n",
       " 'Fireplaces']"
      ]
     },
     "execution_count": 64,
     "metadata": {},
     "output_type": "execute_result"
    }
   ],
   "source": [
    "import collections\n",
    "[item for item, count in collections.Counter(original_cols_cleaned).items() if count > 1]"
   ]
  },
  {
   "cell_type": "markdown",
   "metadata": {},
   "source": [
    "# Fix following columns"
   ]
  },
  {
   "cell_type": "code",
   "execution_count": 116,
   "metadata": {},
   "outputs": [],
   "source": [
    "#  to_drop = house_df[['BsmtFullBath',\n",
    "#  'BsmtHalfBath',\n",
    "#  'FullBath',\n",
    "#  'HalfBath',\n",
    "#  'BedroomAbvGr',\n",
    "#  'KitchenAbvGr',\n",
    "#  'TotRmsAbvGrd',\n",
    "#  'Fireplaces']]"
   ]
  },
  {
   "cell_type": "code",
   "execution_count": 197,
   "metadata": {
    "scrolled": true
   },
   "outputs": [],
   "source": [
    "# house_df = house_df.drop(['BsmtFullBath',\n",
    "#  'BsmtHalfBath',\n",
    "#  'FullBath',\n",
    "#  'HalfBath',\n",
    "#  'BedroomAbvGr',\n",
    "#  'KitchenAbvGr',\n",
    "#  'TotRmsAbvGrd',\n",
    "#  'Fireplaces'], axis = 1)"
   ]
  },
  {
   "cell_type": "code",
   "execution_count": 230,
   "metadata": {},
   "outputs": [],
   "source": [
    "dummies = ['SaleType', 'SaleCondition', 'PavedDrive', 'GarageCond', 'GarageQual'] + [\"CentralAir\", \"Electrical\", \"KitchenQual\", \"Functional\", \"FireplaceQu\", \"GarageType\", \"GarageFinish\"] + ['RoofStyle', 'RoofMatl', 'Exterior1st', 'Exterior2nd', 'MasVnrType', 'ExterQual', 'ExterCond', 'Foundation', 'BsmtQual', 'BsmtCond', 'BsmtExposure', 'BsmtFinType1', 'BsmtFinType2', 'Heating', 'HeatingQC'] + ['MSSubClass', 'MSZoning', 'Street', 'LotConfig', 'Alley', 'BldgType', 'LotShape', 'LandContour', 'LotConfig', 'Condition1', 'Condition2', 'BldgType', 'HouseStyle', 'LandSlope', 'Neighborhood'] + ['Utilities', 'PoolQC', 'Fence', 'MiscFeature', 'GarageYrBlt'] + ['OverallQual', 'OverallCond']"
   ]
  },
  {
   "cell_type": "markdown",
   "metadata": {},
   "source": [
    "### Add dummies and drop"
   ]
  },
  {
   "cell_type": "code",
   "execution_count": null,
   "metadata": {},
   "outputs": [],
   "source": [
    "def add_dummies_drop_mode(dummy_list, house_raw, house_df):\n",
    "\n",
    "    dummy_modes = list(house_raw[dummy_list].mode().iloc[0,:].items())\n",
    "\n",
    "    drop_modes = list(map(lambda x: str(x[0])+'_'+str(x[1]), dummy_modes))\n",
    "\n",
    "    dummy_cols = pd.get_dummies(house_df[dummy_list], dummy_na=True).drop(drop_modes)\n",
    "\n",
    "    return pd.concat([\n",
    "        house_df.drop(dummy_list, axis=1),\n",
    "        dummy_cols], axis=1)"
   ]
  },
  {
   "cell_type": "markdown",
   "metadata": {},
   "source": [
    "### Fill NA for MasVnrArea and LotFrontage"
   ]
  },
  {
   "cell_type": "code",
   "execution_count": 377,
   "metadata": {},
   "outputs": [],
   "source": [
    "house_df['MasVnrArea'] = house_df['MasVnrArea'].fillna(0)"
   ]
  },
  {
   "cell_type": "code",
   "execution_count": 317,
   "metadata": {
    "scrolled": true
   },
   "outputs": [
    {
     "data": {
      "text/plain": [
       "Index(['LotFrontage'], dtype='object')"
      ]
     },
     "execution_count": 317,
     "metadata": {},
     "output_type": "execute_result"
    }
   ],
   "source": [
    "na_sum = house_df.isna().sum() > 0\n",
    "house_df.columns[na_sum]"
   ]
  },
  {
   "cell_type": "code",
   "execution_count": 335,
   "metadata": {},
   "outputs": [],
   "source": [
    "house_df[['LotFrontage']] = house_df[['LotFrontage']].fillna(0)"
   ]
  },
  {
   "cell_type": "markdown",
   "metadata": {},
   "source": [
    "# Drop duplicate columns"
   ]
  },
  {
   "cell_type": "code",
   "execution_count": null,
   "metadata": {},
   "outputs": [],
   "source": [
    "house_df = house_df.T.drop_duplicates(keep='first').T"
   ]
  },
  {
   "cell_type": "markdown",
   "metadata": {},
   "source": [
    "# Random Forest"
   ]
  },
  {
   "cell_type": "code",
   "execution_count": 374,
   "metadata": {},
   "outputs": [],
   "source": [
    "house_df = pd.read_pickle('train.pkl')"
   ]
  },
  {
   "cell_type": "code",
   "execution_count": 375,
   "metadata": {},
   "outputs": [],
   "source": [
    "X = house_df.drop('SalePrice',axis=1)\n",
    "y = house_df.SalePrice"
   ]
  },
  {
   "cell_type": "code",
   "execution_count": 376,
   "metadata": {},
   "outputs": [
    {
     "data": {
      "text/plain": [
       "RandomForestRegressor(bootstrap=True, criterion='mse', max_depth=None,\n",
       "           max_features=3, max_leaf_nodes=None, min_impurity_decrease=0.0,\n",
       "           min_impurity_split=None, min_samples_leaf=1,\n",
       "           min_samples_split=2, min_weight_fraction_leaf=0.0,\n",
       "           n_estimators=1000, n_jobs=None, oob_score=True,\n",
       "           random_state=None, verbose=0, warm_start=False)"
      ]
     },
     "execution_count": 376,
     "metadata": {},
     "output_type": "execute_result"
    }
   ],
   "source": [
    "from sklearn.ensemble import RandomForestRegressor\n",
    "\n",
    "rf = RandomForestRegressor(n_estimators = 1000, max_features=3, oob_score=True)\n",
    "rf.fit(X,y)"
   ]
  },
  {
   "cell_type": "code",
   "execution_count": 351,
   "metadata": {},
   "outputs": [
    {
     "data": {
      "text/plain": [
       "0.7994944202295384"
      ]
     },
     "execution_count": 351,
     "metadata": {},
     "output_type": "execute_result"
    }
   ],
   "source": [
    "rf.oob_score_"
   ]
  },
  {
   "cell_type": "code",
   "execution_count": 350,
   "metadata": {},
   "outputs": [
    {
     "data": {
      "text/html": [
       "<div>\n",
       "<style scoped>\n",
       "    .dataframe tbody tr th:only-of-type {\n",
       "        vertical-align: middle;\n",
       "    }\n",
       "\n",
       "    .dataframe tbody tr th {\n",
       "        vertical-align: top;\n",
       "    }\n",
       "\n",
       "    .dataframe thead th {\n",
       "        text-align: right;\n",
       "    }\n",
       "</style>\n",
       "<table border=\"1\" class=\"dataframe\">\n",
       "  <thead>\n",
       "    <tr style=\"text-align: right;\">\n",
       "      <th></th>\n",
       "      <th>0</th>\n",
       "      <th>1</th>\n",
       "    </tr>\n",
       "  </thead>\n",
       "  <tbody>\n",
       "    <tr>\n",
       "      <th>1</th>\n",
       "      <td>GarageArea</td>\n",
       "      <td>0.0341169</td>\n",
       "    </tr>\n",
       "    <tr>\n",
       "      <th>0</th>\n",
       "      <td>GarageCars</td>\n",
       "      <td>0.0334087</td>\n",
       "    </tr>\n",
       "    <tr>\n",
       "      <th>243</th>\n",
       "      <td>GrLivArea</td>\n",
       "      <td>0.0331679</td>\n",
       "    </tr>\n",
       "    <tr>\n",
       "      <th>240</th>\n",
       "      <td>1stFlrSF</td>\n",
       "      <td>0.0308198</td>\n",
       "    </tr>\n",
       "    <tr>\n",
       "      <th>126</th>\n",
       "      <td>TotalBsmtSF</td>\n",
       "      <td>0.0302505</td>\n",
       "    </tr>\n",
       "    <tr>\n",
       "      <th>38</th>\n",
       "      <td>YearBuilt</td>\n",
       "      <td>0.0279526</td>\n",
       "    </tr>\n",
       "    <tr>\n",
       "      <th>123</th>\n",
       "      <td>BsmtFinSF1</td>\n",
       "      <td>0.0240092</td>\n",
       "    </tr>\n",
       "    <tr>\n",
       "      <th>246</th>\n",
       "      <td>FullBath</td>\n",
       "      <td>0.0237053</td>\n",
       "    </tr>\n",
       "    <tr>\n",
       "      <th>39</th>\n",
       "      <td>YearRemodAdd</td>\n",
       "      <td>0.0224641</td>\n",
       "    </tr>\n",
       "    <tr>\n",
       "      <th>37</th>\n",
       "      <td>LotArea</td>\n",
       "      <td>0.0222535</td>\n",
       "    </tr>\n",
       "    <tr>\n",
       "      <th>250</th>\n",
       "      <td>TotRmsAbvGrd</td>\n",
       "      <td>0.021948</td>\n",
       "    </tr>\n",
       "    <tr>\n",
       "      <th>183</th>\n",
       "      <td>BsmtQual_Ex</td>\n",
       "      <td>0.0209014</td>\n",
       "    </tr>\n",
       "    <tr>\n",
       "      <th>3</th>\n",
       "      <td>OpenPorchSF</td>\n",
       "      <td>0.0193018</td>\n",
       "    </tr>\n",
       "    <tr>\n",
       "      <th>251</th>\n",
       "      <td>Fireplaces</td>\n",
       "      <td>0.0189796</td>\n",
       "    </tr>\n",
       "    <tr>\n",
       "      <th>241</th>\n",
       "      <td>2ndFlrSF</td>\n",
       "      <td>0.0182447</td>\n",
       "    </tr>\n",
       "    <tr>\n",
       "      <th>122</th>\n",
       "      <td>MasVnrArea</td>\n",
       "      <td>0.0179796</td>\n",
       "    </tr>\n",
       "    <tr>\n",
       "      <th>36</th>\n",
       "      <td>LotFrontage</td>\n",
       "      <td>0.0171898</td>\n",
       "    </tr>\n",
       "    <tr>\n",
       "      <th>173</th>\n",
       "      <td>ExterQual_Gd</td>\n",
       "      <td>0.0153015</td>\n",
       "    </tr>\n",
       "    <tr>\n",
       "      <th>219</th>\n",
       "      <td>KitchenQual_Ex</td>\n",
       "      <td>0.0152613</td>\n",
       "    </tr>\n",
       "    <tr>\n",
       "      <th>2</th>\n",
       "      <td>WoodDeckSF</td>\n",
       "      <td>0.0151442</td>\n",
       "    </tr>\n",
       "    <tr>\n",
       "      <th>258</th>\n",
       "      <td>OverallQual_8</td>\n",
       "      <td>0.0146346</td>\n",
       "    </tr>\n",
       "    <tr>\n",
       "      <th>171</th>\n",
       "      <td>ExterQual_Ex</td>\n",
       "      <td>0.0139603</td>\n",
       "    </tr>\n",
       "    <tr>\n",
       "      <th>196</th>\n",
       "      <td>BsmtFinType1_GLQ</td>\n",
       "      <td>0.0136736</td>\n",
       "    </tr>\n",
       "    <tr>\n",
       "      <th>125</th>\n",
       "      <td>BsmtUnfSF</td>\n",
       "      <td>0.0131582</td>\n",
       "    </tr>\n",
       "    <tr>\n",
       "      <th>259</th>\n",
       "      <td>OverallQual_9</td>\n",
       "      <td>0.0115479</td>\n",
       "    </tr>\n",
       "    <tr>\n",
       "      <th>44</th>\n",
       "      <td>MSSubClass_60.0</td>\n",
       "      <td>0.0112479</td>\n",
       "    </tr>\n",
       "    <tr>\n",
       "      <th>238</th>\n",
       "      <td>GarageFinish_Fin</td>\n",
       "      <td>0.0110376</td>\n",
       "    </tr>\n",
       "    <tr>\n",
       "      <th>113</th>\n",
       "      <td>Neighborhood_NridgHt</td>\n",
       "      <td>0.0100661</td>\n",
       "    </tr>\n",
       "    <tr>\n",
       "      <th>221</th>\n",
       "      <td>KitchenQual_Gd</td>\n",
       "      <td>0.00986128</td>\n",
       "    </tr>\n",
       "    <tr>\n",
       "      <th>179</th>\n",
       "      <td>Foundation_CBlock</td>\n",
       "      <td>0.00974729</td>\n",
       "    </tr>\n",
       "    <tr>\n",
       "      <th>...</th>\n",
       "      <td>...</td>\n",
       "      <td>...</td>\n",
       "    </tr>\n",
       "    <tr>\n",
       "      <th>218</th>\n",
       "      <td>Electrical_Mix</td>\n",
       "      <td>3.24031e-05</td>\n",
       "    </tr>\n",
       "    <tr>\n",
       "      <th>303</th>\n",
       "      <td>GarageYrBlt_1929.0</td>\n",
       "      <td>3.12116e-05</td>\n",
       "    </tr>\n",
       "    <tr>\n",
       "      <th>290</th>\n",
       "      <td>GarageYrBlt_1914.0</td>\n",
       "      <td>2.97183e-05</td>\n",
       "    </tr>\n",
       "    <tr>\n",
       "      <th>177</th>\n",
       "      <td>ExterCond_Po</td>\n",
       "      <td>2.71829e-05</td>\n",
       "    </tr>\n",
       "    <tr>\n",
       "      <th>289</th>\n",
       "      <td>GarageYrBlt_1910.0</td>\n",
       "      <td>2.71636e-05</td>\n",
       "    </tr>\n",
       "    <tr>\n",
       "      <th>154</th>\n",
       "      <td>Exterior2nd_AsphShn</td>\n",
       "      <td>2.62064e-05</td>\n",
       "    </tr>\n",
       "    <tr>\n",
       "      <th>311</th>\n",
       "      <td>GarageYrBlt_1937.0</td>\n",
       "      <td>2.54852e-05</td>\n",
       "    </tr>\n",
       "    <tr>\n",
       "      <th>273</th>\n",
       "      <td>PoolQC_Fa</td>\n",
       "      <td>2.4495e-05</td>\n",
       "    </tr>\n",
       "    <tr>\n",
       "      <th>99</th>\n",
       "      <td>Neighborhood_Blueste</td>\n",
       "      <td>2.43245e-05</td>\n",
       "    </tr>\n",
       "    <tr>\n",
       "      <th>316</th>\n",
       "      <td>GarageYrBlt_1942.0</td>\n",
       "      <td>2.38854e-05</td>\n",
       "    </tr>\n",
       "    <tr>\n",
       "      <th>270</th>\n",
       "      <td>Utilities_NoSeWa</td>\n",
       "      <td>2.13354e-05</td>\n",
       "    </tr>\n",
       "    <tr>\n",
       "      <th>77</th>\n",
       "      <td>Condition1_RRNe</td>\n",
       "      <td>2.03568e-05</td>\n",
       "    </tr>\n",
       "    <tr>\n",
       "      <th>227</th>\n",
       "      <td>Functional_Sev</td>\n",
       "      <td>2.01809e-05</td>\n",
       "    </tr>\n",
       "    <tr>\n",
       "      <th>319</th>\n",
       "      <td>GarageYrBlt_1947.0</td>\n",
       "      <td>2.00233e-05</td>\n",
       "    </tr>\n",
       "    <tr>\n",
       "      <th>84</th>\n",
       "      <td>Condition2_RRAn</td>\n",
       "      <td>1.98249e-05</td>\n",
       "    </tr>\n",
       "    <tr>\n",
       "      <th>208</th>\n",
       "      <td>Heating_OthW</td>\n",
       "      <td>1.84539e-05</td>\n",
       "    </tr>\n",
       "    <tr>\n",
       "      <th>140</th>\n",
       "      <td>Exterior1st_AsphShn</td>\n",
       "      <td>1.82862e-05</td>\n",
       "    </tr>\n",
       "    <tr>\n",
       "      <th>135</th>\n",
       "      <td>RoofMatl_Roll</td>\n",
       "      <td>1.75301e-05</td>\n",
       "    </tr>\n",
       "    <tr>\n",
       "      <th>212</th>\n",
       "      <td>HeatingQC_Po</td>\n",
       "      <td>1.63372e-05</td>\n",
       "    </tr>\n",
       "    <tr>\n",
       "      <th>269</th>\n",
       "      <td>Utilities_AllPub</td>\n",
       "      <td>1.58777e-05</td>\n",
       "    </tr>\n",
       "    <tr>\n",
       "      <th>281</th>\n",
       "      <td>MiscFeature_Gar2</td>\n",
       "      <td>1.40488e-05</td>\n",
       "    </tr>\n",
       "    <tr>\n",
       "      <th>286</th>\n",
       "      <td>GarageYrBlt_1900.0</td>\n",
       "      <td>1.37742e-05</td>\n",
       "    </tr>\n",
       "    <tr>\n",
       "      <th>143</th>\n",
       "      <td>Exterior1st_CBlock</td>\n",
       "      <td>1.18762e-05</td>\n",
       "    </tr>\n",
       "    <tr>\n",
       "      <th>301</th>\n",
       "      <td>GarageYrBlt_1927.0</td>\n",
       "      <td>7.63285e-06</td>\n",
       "    </tr>\n",
       "    <tr>\n",
       "      <th>307</th>\n",
       "      <td>GarageYrBlt_1933.0</td>\n",
       "      <td>6.94467e-06</td>\n",
       "    </tr>\n",
       "    <tr>\n",
       "      <th>287</th>\n",
       "      <td>GarageYrBlt_1906.0</td>\n",
       "      <td>6.68221e-06</td>\n",
       "    </tr>\n",
       "    <tr>\n",
       "      <th>134</th>\n",
       "      <td>RoofMatl_Metal</td>\n",
       "      <td>6.46643e-06</td>\n",
       "    </tr>\n",
       "    <tr>\n",
       "      <th>83</th>\n",
       "      <td>Condition2_RRAe</td>\n",
       "      <td>5.30672e-06</td>\n",
       "    </tr>\n",
       "    <tr>\n",
       "      <th>271</th>\n",
       "      <td>Utilities_nan</td>\n",
       "      <td>0</td>\n",
       "    </tr>\n",
       "    <tr>\n",
       "      <th>384</th>\n",
       "      <td>GarageYrBlt_nan</td>\n",
       "      <td>0</td>\n",
       "    </tr>\n",
       "  </tbody>\n",
       "</table>\n",
       "<p>385 rows × 2 columns</p>\n",
       "</div>"
      ],
      "text/plain": [
       "                        0            1\n",
       "1              GarageArea    0.0341169\n",
       "0              GarageCars    0.0334087\n",
       "243             GrLivArea    0.0331679\n",
       "240              1stFlrSF    0.0308198\n",
       "126           TotalBsmtSF    0.0302505\n",
       "38              YearBuilt    0.0279526\n",
       "123            BsmtFinSF1    0.0240092\n",
       "246              FullBath    0.0237053\n",
       "39           YearRemodAdd    0.0224641\n",
       "37                LotArea    0.0222535\n",
       "250          TotRmsAbvGrd     0.021948\n",
       "183           BsmtQual_Ex    0.0209014\n",
       "3             OpenPorchSF    0.0193018\n",
       "251            Fireplaces    0.0189796\n",
       "241              2ndFlrSF    0.0182447\n",
       "122            MasVnrArea    0.0179796\n",
       "36            LotFrontage    0.0171898\n",
       "173          ExterQual_Gd    0.0153015\n",
       "219        KitchenQual_Ex    0.0152613\n",
       "2              WoodDeckSF    0.0151442\n",
       "258         OverallQual_8    0.0146346\n",
       "171          ExterQual_Ex    0.0139603\n",
       "196      BsmtFinType1_GLQ    0.0136736\n",
       "125             BsmtUnfSF    0.0131582\n",
       "259         OverallQual_9    0.0115479\n",
       "44        MSSubClass_60.0    0.0112479\n",
       "238      GarageFinish_Fin    0.0110376\n",
       "113  Neighborhood_NridgHt    0.0100661\n",
       "221        KitchenQual_Gd   0.00986128\n",
       "179     Foundation_CBlock   0.00974729\n",
       "..                    ...          ...\n",
       "218        Electrical_Mix  3.24031e-05\n",
       "303    GarageYrBlt_1929.0  3.12116e-05\n",
       "290    GarageYrBlt_1914.0  2.97183e-05\n",
       "177          ExterCond_Po  2.71829e-05\n",
       "289    GarageYrBlt_1910.0  2.71636e-05\n",
       "154   Exterior2nd_AsphShn  2.62064e-05\n",
       "311    GarageYrBlt_1937.0  2.54852e-05\n",
       "273             PoolQC_Fa   2.4495e-05\n",
       "99   Neighborhood_Blueste  2.43245e-05\n",
       "316    GarageYrBlt_1942.0  2.38854e-05\n",
       "270      Utilities_NoSeWa  2.13354e-05\n",
       "77        Condition1_RRNe  2.03568e-05\n",
       "227        Functional_Sev  2.01809e-05\n",
       "319    GarageYrBlt_1947.0  2.00233e-05\n",
       "84        Condition2_RRAn  1.98249e-05\n",
       "208          Heating_OthW  1.84539e-05\n",
       "140   Exterior1st_AsphShn  1.82862e-05\n",
       "135         RoofMatl_Roll  1.75301e-05\n",
       "212          HeatingQC_Po  1.63372e-05\n",
       "269      Utilities_AllPub  1.58777e-05\n",
       "281      MiscFeature_Gar2  1.40488e-05\n",
       "286    GarageYrBlt_1900.0  1.37742e-05\n",
       "143    Exterior1st_CBlock  1.18762e-05\n",
       "301    GarageYrBlt_1927.0  7.63285e-06\n",
       "307    GarageYrBlt_1933.0  6.94467e-06\n",
       "287    GarageYrBlt_1906.0  6.68221e-06\n",
       "134        RoofMatl_Metal  6.46643e-06\n",
       "83        Condition2_RRAe  5.30672e-06\n",
       "271         Utilities_nan            0\n",
       "384       GarageYrBlt_nan            0\n",
       "\n",
       "[385 rows x 2 columns]"
      ]
     },
     "execution_count": 350,
     "metadata": {},
     "output_type": "execute_result"
    }
   ],
   "source": [
    "pd.DataFrame([X.columns, rf.feature_importances_]).T.sort_values(1, ascending=False)"
   ]
  },
  {
   "cell_type": "code",
   "execution_count": null,
   "metadata": {},
   "outputs": [],
   "source": []
  }
 ],
 "metadata": {
  "kernelspec": {
   "display_name": "Python 3",
   "language": "python",
   "name": "python3"
  },
  "language_info": {
   "codemirror_mode": {
    "name": "ipython",
    "version": 3
   },
   "file_extension": ".py",
   "mimetype": "text/x-python",
   "name": "python",
   "nbconvert_exporter": "python",
   "pygments_lexer": "ipython3",
   "version": "3.6.6"
  }
 },
 "nbformat": 4,
 "nbformat_minor": 2
}
