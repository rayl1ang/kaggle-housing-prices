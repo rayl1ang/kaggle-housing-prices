{
 "cells": [
  {
   "cell_type": "markdown",
   "metadata": {},
   "source": [
    "# Import"
   ]
  },
  {
   "cell_type": "code",
   "execution_count": 69,
   "metadata": {},
   "outputs": [],
   "source": [
    "import pandas as pd\n",
    "import numpy as np\n",
    "\n",
    "# from IPython.display import display\n",
    "# pd.options.display.max_columns = 500\n",
    "# pd.options.display.max_rows = 500\n",
    "\n",
    "%matplotlib inline"
   ]
  },
  {
   "cell_type": "code",
   "execution_count": 70,
   "metadata": {},
   "outputs": [],
   "source": [
    "train_raw = pd.read_csv('data/train.csv')"
   ]
  },
  {
   "cell_type": "code",
   "execution_count": 71,
   "metadata": {},
   "outputs": [],
   "source": [
    "train_df = pd.read_csv('data/train.csv')\n",
    "train_df = train_df.drop('Id', axis = 1)"
   ]
  },
  {
   "cell_type": "code",
   "execution_count": 72,
   "metadata": {},
   "outputs": [],
   "source": [
    "test_df = pd.read_csv('data/test.csv')"
   ]
  },
  {
   "cell_type": "code",
   "execution_count": 73,
   "metadata": {},
   "outputs": [],
   "source": [
    "y = train_df['SalePrice']\n",
    "train_df = train_df.drop('SalePrice', axis=1)"
   ]
  },
  {
   "cell_type": "markdown",
   "metadata": {},
   "source": [
    "# Divide varbles by type"
   ]
  },
  {
   "cell_type": "code",
   "execution_count": 74,
   "metadata": {},
   "outputs": [],
   "source": [
    "# date variables\n",
    "date_vars = ['YearBuilt', 'YearRemodAdd', 'GarageYrBlt', 'MoSold', 'YrSold']\n",
    "\n",
    "# list comprehension of continuous variables that are not dates\n",
    "cont_vars = [cont_var for cont_var in train_df.columns if\n",
    "        (train_df[cont_var].dtype == 'float64') | (train_df[cont_var].dtype == 'int64')\n",
    "        and not cont_var in date_vars]\n",
    "\n",
    "# change continus varibles to float\n",
    "train_df[cont_vars] = train_df[cont_vars].astype('float64')\n",
    "\n",
    "# create dataframe of date variables\n",
    "dates = train_df[date_vars].astype(object)"
   ]
  },
  {
   "cell_type": "code",
   "execution_count": 75,
   "metadata": {},
   "outputs": [],
   "source": [
    "# dict compehension of the frequncy of unique varibales\n",
    "cont_freq = {cont_var: train_df[cont_var].nunique() for cont_var in cont_vars}\n",
    "# frequency data frame\n",
    "cont_freq_df = pd.DataFrame.from_dict(cont_freq, orient='index').rename(columns={0: 'freq'})\n",
    "# continuous variables with few unique values\n",
    "low_vol_cont = ['LowQualFinSF', '3SsnPorch', 'PoolArea']\n",
    "# variabkes with Nan as the mode\n",
    "mode_na = ['Alley', 'PoolQC', 'Fence','MiscFeature', 'FireplaceQu']\n"
   ]
  },
  {
   "cell_type": "code",
   "execution_count": 76,
   "metadata": {},
   "outputs": [],
   "source": [
    "# data frame with numerical variables \n",
    "nums = train_df[list(cont_freq_df[cont_freq_df.freq >= 50].index)].astype(object)\n",
    "\n",
    "num_cats = train_df[list(cont_freq_df[cont_freq_df.freq < 50].index)].astype(object)\n",
    "\n",
    "# list of non categorical variables\n",
    "non_cat = list(nums.columns) + list(dates.columns) + list(num_cats.columns) + mode_na\n",
    "# data frame with only categorical\n",
    "cats =  train_df.drop(non_cat, axis = 1)\n",
    "\n",
    "# data frame with categoricals where the mode is nan\n",
    "cats_na = train_df[mode_na]\n",
    "\n",
    "# move continuous variables with low-frequency from num_cats to nums\n",
    "nums[low_vol_cont] = num_cats[low_vol_cont]\n",
    "num_cats = num_cats.drop(low_vol_cont, axis=1)"
   ]
  },
  {
   "cell_type": "markdown",
   "metadata": {},
   "source": [
    "# Fill numarical missing with 0"
   ]
  },
  {
   "cell_type": "code",
   "execution_count": 77,
   "metadata": {},
   "outputs": [],
   "source": [
    "nums = nums.fillna(0)"
   ]
  },
  {
   "cell_type": "markdown",
   "metadata": {},
   "source": [
    "# Add dummies remove dominate and original categorical columns"
   ]
  },
  {
   "cell_type": "code",
   "execution_count": 78,
   "metadata": {},
   "outputs": [],
   "source": [
    "def add_dummies_remove_modes(dummy_list, house_raw, house_df):\n",
    "\n",
    "    dummy_modes = list(house_raw[dummy_list].mode().iloc[0,:].items())\n",
    "\n",
    "    dummy_modes = [(col, (float(mode))) \n",
    "                   if type(mode) == int else (col, mode) for col, mode in dummy_modes]\n",
    "\n",
    "    drop_modes = list(map(lambda x: str(x[0]) + '_' + str(x[1]), dummy_modes))\n",
    "\n",
    "    dummy_cols = pd.get_dummies(\n",
    "        house_df[dummy_list].astype(object), dummy_na=True).drop(drop_modes, axis=1)\n",
    "\n",
    "    return pd.concat([\n",
    "       house_df.drop(dummy_list, axis=1),\n",
    "       dummy_cols], axis=1)\n"
   ]
  },
  {
   "cell_type": "markdown",
   "metadata": {},
   "source": [
    "# Numarical Categorical to Dummies"
   ]
  },
  {
   "cell_type": "code",
   "execution_count": 79,
   "metadata": {},
   "outputs": [],
   "source": [
    "num_cats_raw = num_cats\n",
    "\n",
    "# impute numarical categoricals with mode\n",
    "num_cats = num_cats.fillna(num_cats.mode())\n",
    "\n",
    "# dummify categotical numericals\n",
    "num_cats = add_dummies_remove_modes(list(num_cats.columns), train_df, num_cats)\n",
    "\n",
    "# drop columns that are all 0\n",
    "num_cats = num_cats.drop(\n",
    "    num_cats.columns[num_cats.sum()==0], axis=1)\n"
   ]
  },
  {
   "cell_type": "markdown",
   "metadata": {},
   "source": [
    "# Categorical to Dummies"
   ]
  },
  {
   "cell_type": "code",
   "execution_count": 80,
   "metadata": {},
   "outputs": [],
   "source": [
    "cats_raw = cats\n",
    "\n",
    "#cats dummies\n",
    "cats = add_dummies_remove_modes(list(cats.columns), train_df, cats)\n",
    "\n",
    "cats = cats.drop(cats.columns[cats.sum()==0], axis=1)"
   ]
  },
  {
   "cell_type": "markdown",
   "metadata": {},
   "source": [
    "# Dummify columns with NA as mode"
   ]
  },
  {
   "cell_type": "code",
   "execution_count": 81,
   "metadata": {},
   "outputs": [],
   "source": [
    "cats_na_raw = cats_na\n",
    "cats_na = pd.get_dummies(cats_na)\n",
    "\n",
    "cats_na = cats_na.drop(cats_na.columns[cats_na.sum()==0], axis=1)"
   ]
  },
  {
   "cell_type": "markdown",
   "metadata": {},
   "source": [
    "# Change GarageYrBlt to binary variable"
   ]
  },
  {
   "cell_type": "code",
   "execution_count": 94,
   "metadata": {},
   "outputs": [],
   "source": [
    "dates['GarageYrBlt'] = dates['GarageYrBlt'].isna().apply(lambda x: int(not x))"
   ]
  },
  {
   "cell_type": "markdown",
   "metadata": {},
   "source": [
    "# Concat final data frame"
   ]
  },
  {
   "cell_type": "code",
   "execution_count": 48,
   "metadata": {},
   "outputs": [],
   "source": [
    "df_train_final = pd.concat([dates, nums, num_cats, cats, cats_na], axis=1)"
   ]
  },
  {
   "cell_type": "markdown",
   "metadata": {},
   "source": [
    "# Quality Check"
   ]
  },
  {
   "cell_type": "code",
   "execution_count": 49,
   "metadata": {},
   "outputs": [
    {
     "data": {
      "text/plain": [
       "(1460, 337)"
      ]
     },
     "execution_count": 49,
     "metadata": {},
     "output_type": "execute_result"
    }
   ],
   "source": [
    "df_train_final.shape"
   ]
  },
  {
   "cell_type": "code",
   "execution_count": 50,
   "metadata": {},
   "outputs": [
    {
     "data": {
      "text/plain": [
       "{'BldgType_Duplex',\n",
       " 'BsmtCond_nan',\n",
       " 'BsmtFinType1_nan',\n",
       " 'Condition2_RRAe',\n",
       " 'Exterior2nd_CBlock',\n",
       " 'GarageCond_nan',\n",
       " 'GarageFinish_nan',\n",
       " 'GarageQual_nan',\n",
       " 'GarageType_nan',\n",
       " 'TotRmsAbvGrd_14.0'}"
      ]
     },
     "execution_count": 50,
     "metadata": {},
     "output_type": "execute_result"
    }
   ],
   "source": [
    "cols_before_drop = set(df_train_final.columns)\n",
    "cols_after_drop = set(df_train_final.T.drop_duplicates(keep='first').T.columns)\n",
    "cols_before_drop - cols_after_drop"
   ]
  },
  {
   "cell_type": "code",
   "execution_count": 51,
   "metadata": {},
   "outputs": [
    {
     "data": {
      "text/plain": [
       "set()"
      ]
     },
     "execution_count": 51,
     "metadata": {},
     "output_type": "execute_result"
    }
   ],
   "source": [
    "cols_after_drop - cols_before_drop"
   ]
  },
  {
   "cell_type": "code",
   "execution_count": 52,
   "metadata": {},
   "outputs": [],
   "source": [
    "df_train_final = df_train_final.T.drop_duplicates(keep='first').T"
   ]
  },
  {
   "cell_type": "code",
   "execution_count": 53,
   "metadata": {},
   "outputs": [
    {
     "data": {
      "text/plain": [
       "(1460, 327)"
      ]
     },
     "execution_count": 53,
     "metadata": {},
     "output_type": "execute_result"
    }
   ],
   "source": [
    "df_train_final.shape"
   ]
  },
  {
   "cell_type": "markdown",
   "metadata": {},
   "source": [
    "# Transform Dummies on Test"
   ]
  },
  {
   "cell_type": "code",
   "execution_count": 54,
   "metadata": {},
   "outputs": [],
   "source": [
    "test_dummy_cols = num_cats_raw.columns.tolist() +  cats_raw.columns.tolist() +  cats_na_raw.columns.tolist()"
   ]
  },
  {
   "cell_type": "code",
   "execution_count": 55,
   "metadata": {},
   "outputs": [],
   "source": [
    " test_dummies1 = pd.get_dummies(test_df[test_dummy_cols])"
   ]
  },
  {
   "cell_type": "code",
   "execution_count": 56,
   "metadata": {},
   "outputs": [],
   "source": [
    "test_df = pd.concat([test_dummies1, test_df], axis=1)"
   ]
  },
  {
   "cell_type": "code",
   "execution_count": 57,
   "metadata": {},
   "outputs": [],
   "source": [
    "train_cols = set(df_train_final.columns)\n",
    "test_cols = set(test_df.columns)\n",
    "\n",
    "test_drop =  list(test_cols - train_cols)\n",
    "test_unkonwn_dummies = list(train_cols - test_cols)"
   ]
  },
  {
   "cell_type": "markdown",
   "metadata": {},
   "source": [
    "# Quality Check on Test"
   ]
  },
  {
   "cell_type": "code",
   "execution_count": 58,
   "metadata": {},
   "outputs": [
    {
     "data": {
      "text/plain": [
       "['HouseStyle',\n",
       " 'Exterior2nd_CBlock',\n",
       " 'SaleCondition',\n",
       " 'ExterCond_TA',\n",
       " 'LandSlope_Gtl',\n",
       " 'CentralAir_Y',\n",
       " 'SaleType',\n",
       " 'Functional_Typ',\n",
       " 'LandSlope',\n",
       " 'BsmtFinType2_Unf',\n",
       " 'MSSubClass',\n",
       " 'Electrical',\n",
       " 'GarageType_Attchd',\n",
       " 'Exterior1st',\n",
       " 'ExterQual_TA',\n",
       " 'HalfBath',\n",
       " 'Heating',\n",
       " 'Condition1',\n",
       " 'Fence',\n",
       " 'MasVnrType_None',\n",
       " 'Exterior1st_VinylSd',\n",
       " 'BsmtFinType1',\n",
       " 'BedroomAbvGr',\n",
       " 'Foundation',\n",
       " 'BsmtQual',\n",
       " 'GarageQual',\n",
       " 'Fireplaces',\n",
       " 'FullBath',\n",
       " 'KitchenAbvGr',\n",
       " 'FireplaceQu',\n",
       " 'RoofMatl_CompShg',\n",
       " 'HeatingQC',\n",
       " 'KitchenQual_TA',\n",
       " 'Utilities',\n",
       " 'CentralAir',\n",
       " 'ExterCond',\n",
       " 'Foundation_PConc',\n",
       " 'GarageFinish_Unf',\n",
       " 'Electrical_SBrkr',\n",
       " 'ExterQual',\n",
       " 'BsmtFinType1_Unf',\n",
       " 'MSZoning_RL',\n",
       " 'Heating_GasA',\n",
       " 'GarageCars',\n",
       " 'LotShape_Reg',\n",
       " 'Id',\n",
       " 'MiscVal',\n",
       " 'OverallQual',\n",
       " 'LotConfig_Inside',\n",
       " 'KitchenQual',\n",
       " 'Condition1_Norm',\n",
       " 'SaleType_WD',\n",
       " 'BsmtQual_TA',\n",
       " 'RoofStyle',\n",
       " 'Street',\n",
       " 'PavedDrive_Y',\n",
       " 'LandContour_Lvl',\n",
       " 'Utilities_AllPub',\n",
       " 'RoofStyle_Gable',\n",
       " 'GarageCond',\n",
       " 'Exterior2nd_VinylSd',\n",
       " 'BsmtFullBath',\n",
       " 'GarageQual_TA',\n",
       " 'MSZoning',\n",
       " 'BsmtCond',\n",
       " 'BsmtFinType2',\n",
       " 'BsmtHalfBath',\n",
       " 'RoofMatl',\n",
       " 'BsmtCond_TA',\n",
       " 'HeatingQC_Ex',\n",
       " 'MasVnrType',\n",
       " 'OverallCond',\n",
       " 'MiscFeature',\n",
       " 'Condition2_Norm',\n",
       " 'Condition2',\n",
       " 'LandContour',\n",
       " 'BldgType_1Fam',\n",
       " 'Alley',\n",
       " 'BldgType_Duplex',\n",
       " 'Exterior2nd',\n",
       " 'BsmtExposure',\n",
       " 'GarageType',\n",
       " 'PavedDrive',\n",
       " 'LotShape',\n",
       " 'TotRmsAbvGrd',\n",
       " 'HouseStyle_1Story',\n",
       " 'SaleCondition_Normal',\n",
       " 'BsmtExposure_No',\n",
       " 'Functional',\n",
       " 'Neighborhood',\n",
       " 'LotConfig',\n",
       " 'Street_Pave',\n",
       " 'Neighborhood_NAmes',\n",
       " 'GarageCond_TA',\n",
       " 'PoolQC',\n",
       " 'BldgType',\n",
       " 'GarageFinish']"
      ]
     },
     "execution_count": 58,
     "metadata": {},
     "output_type": "execute_result"
    }
   ],
   "source": [
    "# these are all either the varibles that need to be droped after dummifyin \n",
    "# or are variables show up in train but not test\n",
    "test_drop"
   ]
  },
  {
   "cell_type": "code",
   "execution_count": 59,
   "metadata": {
    "scrolled": true
   },
   "outputs": [
    {
     "data": {
      "text/plain": [
       "['MSSubClass_60.0',\n",
       " 'Fireplaces_3.0',\n",
       " 'GarageQual_Ex',\n",
       " 'OverallCond_9.0',\n",
       " 'Exterior2nd_Other',\n",
       " 'TotRmsAbvGrd_12.0',\n",
       " 'RoofMatl_Metal',\n",
       " 'TotRmsAbvGrd_7.0',\n",
       " 'MSSubClass_190.0',\n",
       " 'OverallCond_2.0',\n",
       " 'BsmtHalfBath_1.0',\n",
       " 'KitchenAbvGr_0.0',\n",
       " 'Condition2_RRNn',\n",
       " 'OverallCond_6.0',\n",
       " 'MSSubClass_180.0',\n",
       " 'TotRmsAbvGrd_4.0',\n",
       " 'FullBath_1.0',\n",
       " 'Fireplaces_2.0',\n",
       " 'RoofMatl_ClyTile',\n",
       " 'TotRmsAbvGrd_3.0',\n",
       " 'BedroomAbvGr_0.0',\n",
       " 'BedroomAbvGr_6.0',\n",
       " 'KitchenAbvGr_3.0',\n",
       " 'GarageCars_1.0',\n",
       " 'MSSubClass_85.0',\n",
       " 'TotRmsAbvGrd_9.0',\n",
       " 'MSSubClass_40.0',\n",
       " 'MiscVal_600.0',\n",
       " 'FullBath_0.0',\n",
       " 'MiscFeature_TenC',\n",
       " 'Exterior1st_Stone',\n",
       " 'OverallQual_4.0',\n",
       " 'BedroomAbvGr_5.0',\n",
       " 'Heating_OthW',\n",
       " 'MiscVal_480.0',\n",
       " 'MSSubClass_30.0',\n",
       " 'Electrical_Mix',\n",
       " 'Utilities_NoSeWa',\n",
       " 'TotRmsAbvGrd_10.0',\n",
       " 'Heating_Floor',\n",
       " 'MiscVal_450.0',\n",
       " 'MiscVal_400.0',\n",
       " 'OverallQual_1.0',\n",
       " 'MiscVal_560.0',\n",
       " 'MSSubClass_75.0',\n",
       " 'OverallQual_6.0',\n",
       " 'GarageCars_3.0',\n",
       " 'RoofMatl_Membran',\n",
       " 'MiscVal_1300.0',\n",
       " 'TotRmsAbvGrd_11.0',\n",
       " 'OverallQual_7.0',\n",
       " 'OverallCond_8.0',\n",
       " 'FullBath_3.0',\n",
       " 'MiscVal_1150.0',\n",
       " 'BsmtFullBath_3.0',\n",
       " 'OverallQual_10.0',\n",
       " 'OverallCond_4.0',\n",
       " 'MasVnrType_nan',\n",
       " 'BsmtHalfBath_2.0',\n",
       " 'MiscVal_620.0',\n",
       " 'HalfBath_1.0',\n",
       " 'MSSubClass_80.0',\n",
       " 'MSSubClass_70.0',\n",
       " 'BsmtFinType2_nan',\n",
       " 'BedroomAbvGr_1.0',\n",
       " 'BsmtFullBath_1.0',\n",
       " 'OverallQual_8.0',\n",
       " 'MSSubClass_45.0',\n",
       " 'TotRmsAbvGrd_8.0',\n",
       " 'OverallCond_1.0',\n",
       " 'BedroomAbvGr_2.0',\n",
       " 'MiscVal_1400.0',\n",
       " 'MSSubClass_90.0',\n",
       " 'TotRmsAbvGrd_5.0',\n",
       " 'MiscVal_2000.0',\n",
       " 'OverallQual_2.0',\n",
       " 'BsmtExposure_nan',\n",
       " 'RoofMatl_Roll',\n",
       " 'MSSubClass_50.0',\n",
       " 'MiscVal_8300.0',\n",
       " 'GarageCars_0.0',\n",
       " 'Electrical_nan',\n",
       " 'HalfBath_2.0',\n",
       " 'MiscVal_15500.0',\n",
       " 'Exterior1st_ImStucc',\n",
       " 'OverallQual_3.0',\n",
       " 'BedroomAbvGr_4.0',\n",
       " 'MiscVal_1200.0',\n",
       " 'OverallCond_3.0',\n",
       " 'OverallCond_7.0',\n",
       " 'MiscVal_800.0',\n",
       " 'KitchenAbvGr_2.0',\n",
       " 'OverallQual_9.0',\n",
       " 'BsmtQual_nan',\n",
       " 'MSSubClass_160.0',\n",
       " 'HouseStyle_2.5Fin',\n",
       " 'PoolQC_Fa',\n",
       " 'BedroomAbvGr_8.0',\n",
       " 'MiscVal_3500.0',\n",
       " 'MiscVal_350.0',\n",
       " 'Fireplaces_1.0',\n",
       " 'MSSubClass_120.0',\n",
       " 'BsmtFullBath_2.0',\n",
       " 'GarageCars_4.0',\n",
       " 'MiscVal_54.0',\n",
       " 'MiscVal_700.0',\n",
       " 'MiscVal_2500.0',\n",
       " 'MiscVal_500.0',\n",
       " 'Condition2_RRAn',\n",
       " 'TotRmsAbvGrd_2.0']"
      ]
     },
     "execution_count": 59,
     "metadata": {},
     "output_type": "execute_result"
    }
   ],
   "source": [
    "# these are the dummy variables that do not show up in test\n",
    "test_unkonwn_dummies"
   ]
  },
  {
   "cell_type": "markdown",
   "metadata": {},
   "source": [
    "# Drop test columns that are not in train"
   ]
  },
  {
   "cell_type": "code",
   "execution_count": 60,
   "metadata": {
    "scrolled": true
   },
   "outputs": [],
   "source": [
    "test_df = test_df.drop(test_drop, axis=1)"
   ]
  },
  {
   "cell_type": "markdown",
   "metadata": {},
   "source": [
    "# Add dummies that are unseen in test"
   ]
  },
  {
   "cell_type": "code",
   "execution_count": 61,
   "metadata": {},
   "outputs": [],
   "source": [
    "test_dummies2 = test_df.reindex(columns = test_unkonwn_dummies, fill_value=0)"
   ]
  },
  {
   "cell_type": "code",
   "execution_count": 62,
   "metadata": {},
   "outputs": [],
   "source": [
    "test_df = pd.concat([test_df, test_dummies2], axis=1)"
   ]
  },
  {
   "cell_type": "markdown",
   "metadata": {},
   "source": [
    "# Impute missing with 0"
   ]
  },
  {
   "cell_type": "code",
   "execution_count": 63,
   "metadata": {},
   "outputs": [],
   "source": [
    "test_na_cols = test_df.columns[test_df.isna().sum() > 0]\n",
    "test_df[test_na_cols] = test_df[test_na_cols].fillna(0)"
   ]
  },
  {
   "cell_type": "markdown",
   "metadata": {},
   "source": [
    "# Matching order of train and test"
   ]
  },
  {
   "cell_type": "code",
   "execution_count": 64,
   "metadata": {},
   "outputs": [],
   "source": [
    "test_df = test_df[df_train_final.columns]"
   ]
  },
  {
   "cell_type": "markdown",
   "metadata": {},
   "source": [
    "# Add response variable"
   ]
  },
  {
   "cell_type": "code",
   "execution_count": 65,
   "metadata": {},
   "outputs": [],
   "source": [
    "df_train_final['SalePrice'] = train_raw['SalePrice']"
   ]
  },
  {
   "cell_type": "markdown",
   "metadata": {},
   "source": [
    "# Pickle"
   ]
  },
  {
   "cell_type": "code",
   "execution_count": 68,
   "metadata": {},
   "outputs": [],
   "source": [
    "df_train_final.to_pickle('train.pkl')\n",
    "test_df.to_pickle('test.pkl')"
   ]
  }
 ],
 "metadata": {
  "kernelspec": {
   "display_name": "Python 3",
   "language": "python",
   "name": "python3"
  },
  "language_info": {
   "codemirror_mode": {
    "name": "ipython",
    "version": 3
   },
   "file_extension": ".py",
   "mimetype": "text/x-python",
   "name": "python",
   "nbconvert_exporter": "python",
   "pygments_lexer": "ipython3",
   "version": "3.6.6"
  }
 },
 "nbformat": 4,
 "nbformat_minor": 2
}
