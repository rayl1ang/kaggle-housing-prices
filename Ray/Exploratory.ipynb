{
 "cells": [
  {
   "cell_type": "code",
   "execution_count": 94,
   "metadata": {},
   "outputs": [],
   "source": [
    "import numpy as np\n",
    "import pandas as pd\n",
    "import matplotlib.pyplot as plt"
   ]
  },
  {
   "cell_type": "code",
   "execution_count": 95,
   "metadata": {},
   "outputs": [],
   "source": [
    "df = pd.read_csv(\"../data/train.csv\")"
   ]
  },
  {
   "cell_type": "code",
   "execution_count": 96,
   "metadata": {},
   "outputs": [
    {
     "data": {
      "text/html": [
       "<div>\n",
       "<style scoped>\n",
       "    .dataframe tbody tr th:only-of-type {\n",
       "        vertical-align: middle;\n",
       "    }\n",
       "\n",
       "    .dataframe tbody tr th {\n",
       "        vertical-align: top;\n",
       "    }\n",
       "\n",
       "    .dataframe thead th {\n",
       "        text-align: right;\n",
       "    }\n",
       "</style>\n",
       "<table border=\"1\" class=\"dataframe\">\n",
       "  <thead>\n",
       "    <tr style=\"text-align: right;\">\n",
       "      <th></th>\n",
       "      <th>Id</th>\n",
       "      <th>MSSubClass</th>\n",
       "      <th>MSZoning</th>\n",
       "      <th>LotFrontage</th>\n",
       "      <th>LotArea</th>\n",
       "      <th>Street</th>\n",
       "      <th>Alley</th>\n",
       "      <th>LotShape</th>\n",
       "      <th>LandContour</th>\n",
       "      <th>Utilities</th>\n",
       "      <th>...</th>\n",
       "      <th>PoolArea</th>\n",
       "      <th>PoolQC</th>\n",
       "      <th>Fence</th>\n",
       "      <th>MiscFeature</th>\n",
       "      <th>MiscVal</th>\n",
       "      <th>MoSold</th>\n",
       "      <th>YrSold</th>\n",
       "      <th>SaleType</th>\n",
       "      <th>SaleCondition</th>\n",
       "      <th>SalePrice</th>\n",
       "    </tr>\n",
       "  </thead>\n",
       "  <tbody>\n",
       "    <tr>\n",
       "      <th>0</th>\n",
       "      <td>1</td>\n",
       "      <td>60</td>\n",
       "      <td>RL</td>\n",
       "      <td>65.0</td>\n",
       "      <td>8450</td>\n",
       "      <td>Pave</td>\n",
       "      <td>NaN</td>\n",
       "      <td>Reg</td>\n",
       "      <td>Lvl</td>\n",
       "      <td>AllPub</td>\n",
       "      <td>...</td>\n",
       "      <td>0</td>\n",
       "      <td>NaN</td>\n",
       "      <td>NaN</td>\n",
       "      <td>NaN</td>\n",
       "      <td>0</td>\n",
       "      <td>2</td>\n",
       "      <td>2008</td>\n",
       "      <td>WD</td>\n",
       "      <td>Normal</td>\n",
       "      <td>208500</td>\n",
       "    </tr>\n",
       "    <tr>\n",
       "      <th>1</th>\n",
       "      <td>2</td>\n",
       "      <td>20</td>\n",
       "      <td>RL</td>\n",
       "      <td>80.0</td>\n",
       "      <td>9600</td>\n",
       "      <td>Pave</td>\n",
       "      <td>NaN</td>\n",
       "      <td>Reg</td>\n",
       "      <td>Lvl</td>\n",
       "      <td>AllPub</td>\n",
       "      <td>...</td>\n",
       "      <td>0</td>\n",
       "      <td>NaN</td>\n",
       "      <td>NaN</td>\n",
       "      <td>NaN</td>\n",
       "      <td>0</td>\n",
       "      <td>5</td>\n",
       "      <td>2007</td>\n",
       "      <td>WD</td>\n",
       "      <td>Normal</td>\n",
       "      <td>181500</td>\n",
       "    </tr>\n",
       "    <tr>\n",
       "      <th>2</th>\n",
       "      <td>3</td>\n",
       "      <td>60</td>\n",
       "      <td>RL</td>\n",
       "      <td>68.0</td>\n",
       "      <td>11250</td>\n",
       "      <td>Pave</td>\n",
       "      <td>NaN</td>\n",
       "      <td>IR1</td>\n",
       "      <td>Lvl</td>\n",
       "      <td>AllPub</td>\n",
       "      <td>...</td>\n",
       "      <td>0</td>\n",
       "      <td>NaN</td>\n",
       "      <td>NaN</td>\n",
       "      <td>NaN</td>\n",
       "      <td>0</td>\n",
       "      <td>9</td>\n",
       "      <td>2008</td>\n",
       "      <td>WD</td>\n",
       "      <td>Normal</td>\n",
       "      <td>223500</td>\n",
       "    </tr>\n",
       "    <tr>\n",
       "      <th>3</th>\n",
       "      <td>4</td>\n",
       "      <td>70</td>\n",
       "      <td>RL</td>\n",
       "      <td>60.0</td>\n",
       "      <td>9550</td>\n",
       "      <td>Pave</td>\n",
       "      <td>NaN</td>\n",
       "      <td>IR1</td>\n",
       "      <td>Lvl</td>\n",
       "      <td>AllPub</td>\n",
       "      <td>...</td>\n",
       "      <td>0</td>\n",
       "      <td>NaN</td>\n",
       "      <td>NaN</td>\n",
       "      <td>NaN</td>\n",
       "      <td>0</td>\n",
       "      <td>2</td>\n",
       "      <td>2006</td>\n",
       "      <td>WD</td>\n",
       "      <td>Abnorml</td>\n",
       "      <td>140000</td>\n",
       "    </tr>\n",
       "    <tr>\n",
       "      <th>4</th>\n",
       "      <td>5</td>\n",
       "      <td>60</td>\n",
       "      <td>RL</td>\n",
       "      <td>84.0</td>\n",
       "      <td>14260</td>\n",
       "      <td>Pave</td>\n",
       "      <td>NaN</td>\n",
       "      <td>IR1</td>\n",
       "      <td>Lvl</td>\n",
       "      <td>AllPub</td>\n",
       "      <td>...</td>\n",
       "      <td>0</td>\n",
       "      <td>NaN</td>\n",
       "      <td>NaN</td>\n",
       "      <td>NaN</td>\n",
       "      <td>0</td>\n",
       "      <td>12</td>\n",
       "      <td>2008</td>\n",
       "      <td>WD</td>\n",
       "      <td>Normal</td>\n",
       "      <td>250000</td>\n",
       "    </tr>\n",
       "  </tbody>\n",
       "</table>\n",
       "<p>5 rows × 81 columns</p>\n",
       "</div>"
      ],
      "text/plain": [
       "   Id  MSSubClass MSZoning  LotFrontage  LotArea Street Alley LotShape  \\\n",
       "0   1          60       RL         65.0     8450   Pave   NaN      Reg   \n",
       "1   2          20       RL         80.0     9600   Pave   NaN      Reg   \n",
       "2   3          60       RL         68.0    11250   Pave   NaN      IR1   \n",
       "3   4          70       RL         60.0     9550   Pave   NaN      IR1   \n",
       "4   5          60       RL         84.0    14260   Pave   NaN      IR1   \n",
       "\n",
       "  LandContour Utilities    ...     PoolArea PoolQC Fence MiscFeature MiscVal  \\\n",
       "0         Lvl    AllPub    ...            0    NaN   NaN         NaN       0   \n",
       "1         Lvl    AllPub    ...            0    NaN   NaN         NaN       0   \n",
       "2         Lvl    AllPub    ...            0    NaN   NaN         NaN       0   \n",
       "3         Lvl    AllPub    ...            0    NaN   NaN         NaN       0   \n",
       "4         Lvl    AllPub    ...            0    NaN   NaN         NaN       0   \n",
       "\n",
       "  MoSold YrSold  SaleType  SaleCondition  SalePrice  \n",
       "0      2   2008        WD         Normal     208500  \n",
       "1      5   2007        WD         Normal     181500  \n",
       "2      9   2008        WD         Normal     223500  \n",
       "3      2   2006        WD        Abnorml     140000  \n",
       "4     12   2008        WD         Normal     250000  \n",
       "\n",
       "[5 rows x 81 columns]"
      ]
     },
     "execution_count": 96,
     "metadata": {},
     "output_type": "execute_result"
    }
   ],
   "source": [
    "df.head()"
   ]
  },
  {
   "cell_type": "code",
   "execution_count": 97,
   "metadata": {},
   "outputs": [],
   "source": [
    "dfnew = df.iloc[:, 41:61]"
   ]
  },
  {
   "cell_type": "code",
   "execution_count": 98,
   "metadata": {},
   "outputs": [
    {
     "data": {
      "text/plain": [
       "Index(['CentralAir', 'Electrical', '1stFlrSF', '2ndFlrSF', 'LowQualFinSF',\n",
       "       'GrLivArea', 'BsmtFullBath', 'BsmtHalfBath', 'FullBath', 'HalfBath',\n",
       "       'BedroomAbvGr', 'KitchenAbvGr', 'KitchenQual', 'TotRmsAbvGrd',\n",
       "       'Functional', 'Fireplaces', 'FireplaceQu', 'GarageType', 'GarageYrBlt',\n",
       "       'GarageFinish'],\n",
       "      dtype='object')"
      ]
     },
     "execution_count": 98,
     "metadata": {},
     "output_type": "execute_result"
    }
   ],
   "source": [
    "dfnew.columns"
   ]
  },
  {
   "cell_type": "code",
   "execution_count": 133,
   "metadata": {},
   "outputs": [
    {
     "data": {
      "text/plain": [
       "CentralAir      object\n",
       "Electrical      object\n",
       "1stFlrSF         int64\n",
       "2ndFlrSF         int64\n",
       "LowQualFinSF     int64\n",
       "GrLivArea        int64\n",
       "BsmtFullBath     int64\n",
       "BsmtHalfBath     int64\n",
       "FullBath         int64\n",
       "HalfBath         int64\n",
       "BedroomAbvGr     int64\n",
       "KitchenAbvGr     int64\n",
       "KitchenQual     object\n",
       "TotRmsAbvGrd     int64\n",
       "Functional      object\n",
       "Fireplaces       int64\n",
       "FireplaceQu     object\n",
       "GarageType      object\n",
       "GarageYrBlt     object\n",
       "GarageFinish    object\n",
       "dtype: object"
      ]
     },
     "execution_count": 133,
     "metadata": {},
     "output_type": "execute_result"
    }
   ],
   "source": [
    "dfnew.dtypes"
   ]
  },
  {
   "cell_type": "code",
   "execution_count": 99,
   "metadata": {
    "scrolled": true
   },
   "outputs": [
    {
     "data": {
      "text/plain": [
       "CentralAir      False\n",
       "Electrical       True\n",
       "1stFlrSF        False\n",
       "2ndFlrSF        False\n",
       "LowQualFinSF    False\n",
       "GrLivArea       False\n",
       "BsmtFullBath    False\n",
       "BsmtHalfBath    False\n",
       "FullBath        False\n",
       "HalfBath        False\n",
       "BedroomAbvGr    False\n",
       "KitchenAbvGr    False\n",
       "KitchenQual     False\n",
       "TotRmsAbvGrd    False\n",
       "Functional      False\n",
       "Fireplaces      False\n",
       "FireplaceQu      True\n",
       "GarageType       True\n",
       "GarageYrBlt      True\n",
       "GarageFinish     True\n",
       "dtype: bool"
      ]
     },
     "execution_count": 99,
     "metadata": {},
     "output_type": "execute_result"
    }
   ],
   "source": [
    "dfnew.isna().any(axis=0)"
   ]
  },
  {
   "cell_type": "markdown",
   "metadata": {},
   "source": [
    "## Missingness"
   ]
  },
  {
   "cell_type": "code",
   "execution_count": 100,
   "metadata": {},
   "outputs": [
    {
     "data": {
      "text/plain": [
       "Index(['Electrical', 'FireplaceQu', 'GarageType', 'GarageYrBlt',\n",
       "       'GarageFinish'],\n",
       "      dtype='object')"
      ]
     },
     "execution_count": 100,
     "metadata": {},
     "output_type": "execute_result"
    }
   ],
   "source": [
    "missingcols = dfnew.columns[dfnew.isna().any()]\n",
    "missingcols"
   ]
  },
  {
   "cell_type": "code",
   "execution_count": 101,
   "metadata": {},
   "outputs": [
    {
     "name": "stdout",
     "output_type": "stream",
     "text": [
      "Electrical 1\n",
      "FireplaceQu 690\n",
      "GarageType 81\n",
      "GarageYrBlt 81\n",
      "GarageFinish 81\n"
     ]
    }
   ],
   "source": [
    "# of missingness per column\n",
    "for i in missingcols:\n",
    "    print(i, len(dfnew[i].loc[dfnew[i].isna()]))\n"
   ]
  },
  {
   "cell_type": "code",
   "execution_count": 102,
   "metadata": {},
   "outputs": [
    {
     "data": {
      "text/html": [
       "<div>\n",
       "<style scoped>\n",
       "    .dataframe tbody tr th:only-of-type {\n",
       "        vertical-align: middle;\n",
       "    }\n",
       "\n",
       "    .dataframe tbody tr th {\n",
       "        vertical-align: top;\n",
       "    }\n",
       "\n",
       "    .dataframe thead th {\n",
       "        text-align: right;\n",
       "    }\n",
       "</style>\n",
       "<table border=\"1\" class=\"dataframe\">\n",
       "  <thead>\n",
       "    <tr style=\"text-align: right;\">\n",
       "      <th></th>\n",
       "      <th>CentralAir</th>\n",
       "      <th>Electrical</th>\n",
       "      <th>1stFlrSF</th>\n",
       "      <th>2ndFlrSF</th>\n",
       "      <th>LowQualFinSF</th>\n",
       "      <th>GrLivArea</th>\n",
       "      <th>BsmtFullBath</th>\n",
       "      <th>BsmtHalfBath</th>\n",
       "      <th>FullBath</th>\n",
       "      <th>HalfBath</th>\n",
       "      <th>BedroomAbvGr</th>\n",
       "      <th>KitchenAbvGr</th>\n",
       "      <th>KitchenQual</th>\n",
       "      <th>TotRmsAbvGrd</th>\n",
       "      <th>Functional</th>\n",
       "      <th>Fireplaces</th>\n",
       "      <th>FireplaceQu</th>\n",
       "      <th>GarageType</th>\n",
       "      <th>GarageYrBlt</th>\n",
       "      <th>GarageFinish</th>\n",
       "    </tr>\n",
       "  </thead>\n",
       "  <tbody>\n",
       "    <tr>\n",
       "      <th>1379</th>\n",
       "      <td>Y</td>\n",
       "      <td>NaN</td>\n",
       "      <td>754</td>\n",
       "      <td>640</td>\n",
       "      <td>0</td>\n",
       "      <td>1394</td>\n",
       "      <td>0</td>\n",
       "      <td>0</td>\n",
       "      <td>2</td>\n",
       "      <td>1</td>\n",
       "      <td>3</td>\n",
       "      <td>1</td>\n",
       "      <td>Gd</td>\n",
       "      <td>7</td>\n",
       "      <td>Typ</td>\n",
       "      <td>0</td>\n",
       "      <td>NaN</td>\n",
       "      <td>BuiltIn</td>\n",
       "      <td>2007.0</td>\n",
       "      <td>Fin</td>\n",
       "    </tr>\n",
       "  </tbody>\n",
       "</table>\n",
       "</div>"
      ],
      "text/plain": [
       "     CentralAir Electrical  1stFlrSF  2ndFlrSF  LowQualFinSF  GrLivArea  \\\n",
       "1379          Y        NaN       754       640             0       1394   \n",
       "\n",
       "      BsmtFullBath  BsmtHalfBath  FullBath  HalfBath  BedroomAbvGr  \\\n",
       "1379             0             0         2         1             3   \n",
       "\n",
       "      KitchenAbvGr KitchenQual  TotRmsAbvGrd Functional  Fireplaces  \\\n",
       "1379             1          Gd             7        Typ           0   \n",
       "\n",
       "     FireplaceQu GarageType  GarageYrBlt GarageFinish  \n",
       "1379         NaN    BuiltIn       2007.0          Fin  "
      ]
     },
     "execution_count": 102,
     "metadata": {},
     "output_type": "execute_result"
    }
   ],
   "source": [
    "dfnew[dfnew[\"Electrical\"].isna()]"
   ]
  },
  {
   "cell_type": "code",
   "execution_count": 103,
   "metadata": {},
   "outputs": [
    {
     "data": {
      "text/plain": [
       "SBrkr    1334\n",
       "FuseA      94\n",
       "FuseF      27\n",
       "FuseP       3\n",
       "Mix         1\n",
       "Name: Electrical, dtype: int64"
      ]
     },
     "execution_count": 103,
     "metadata": {},
     "output_type": "execute_result"
    }
   ],
   "source": [
    "dfnew[\"Electrical\"].value_counts()"
   ]
  },
  {
   "cell_type": "code",
   "execution_count": 104,
   "metadata": {
    "collapsed": true
   },
   "outputs": [
    {
     "name": "stdout",
     "output_type": "stream",
     "text": [
      "CentralAir ['Y' 'N'] \n",
      "\n",
      "Electrical ['SBrkr' 'FuseF' 'FuseA' 'FuseP' 'Mix' nan] \n",
      "\n",
      "1stFlrSF [ 856 1262  920  961 1145  796 1694 1107 1022 1077 1040 1182  912 1494\n",
      " 1253  854 1004 1296 1114 1339 1158 1108 1795 1060 1600  900 1704  520\n",
      "  649 1228 1234 1700 1561 1132 1097 1297 1057 1152 1324 1328  884  938\n",
      " 1150 1752 1518 1656  736  955  794  816 1842 1360 1425  983  860 1426\n",
      "  780  581 1370  902 1143 2207 1479  747 1304 2223  845  885 1086  840\n",
      "  526  952 1072 1768  682 1337 1563 1065  804 1301  684  612 1013  990\n",
      " 1235  964 1260  905  680 1588  960  835 1225 1610  977 1535 1226 1053\n",
      " 1047  789  997 1844 1216  774 1282 2259 1436  729 1092 1125 1699  728\n",
      "  988  772 1080 1199 1586  958  660 1327 1721 1682 1214 1959  928  864\n",
      " 1734  910 1501 1728  970  875  896  969 1710 1252 1200  572  991 1392\n",
      " 1232 1572 1541  882 1149  808 1867 1707 1064 1362 1651 2158 1164 2234\n",
      "  968  769  901 1340  936 1217 1224 1593 1549  725 1431  855 1726  929\n",
      " 1713 1121 1279  865  848  720 1442 1696 1100 1180 1212  932  689 1236\n",
      "  810 1137 1248 1498 1010  811 2392  630  483 1555 1194 1490  894 1414\n",
      " 1014  798 1566  866  889  626 1222 1872  908 1375 1444 1306 1625 1302\n",
      " 1314 1005 1604  963 1382 1482  926  764 1422  802 1052  778 1113 1095\n",
      " 1363 1632 1560 2121 1156 1175 1468 1575  625 1085  858  698 1079 1148\n",
      " 1644 1003  975 1041 1336 1210 1675 2000 1122 1035  861 1944  697  972\n",
      "  793 2036  832  716 1153 1088 1372 1472 1249 1136 1553 1163 1898  803\n",
      " 1719 1383 1445  596 1056 1629 1358  943 1619 1922 1536 1621 1215  993\n",
      "  841 1684  536 1478 1848 1869 1453  616 1192 1167 1142 1352  495  790\n",
      "  672 1394 1268 1287  953 1120  752 1319  847  904  914 1580 1856 1007\n",
      " 1026  939  784 1269  658 1742  788  735 1144  876 1112 1288 1310 1165\n",
      "  806 1620 1166 1071 1050 1276 1028  756 1344 1602 1470 1196  707  907\n",
      " 1208 1412  765  827  734  694 2402 1440 1128 1258  933 1689 1888  956\n",
      "  679  813 1533  888  786 1242  624 1663  833  979  575  849 1277 1634\n",
      " 1502 1161 1976 1652 1493 2069 1718 1131 1850 1792  916  999 1073 1484\n",
      " 1766  886 3228 1133  899 1801 1218 1368 2020 1378 1244 3138 1266 1476\n",
      "  605 2515 1509  751  334  820  880 1159 1601 1838 1680  767  664 1377\n",
      "  915  768  825 1069 1717 1126 1006 1048  897 1557 1389  996 1134 1496\n",
      "  846  576  877 1320  703 1429 2042 1521  989 2028  838 1473  779  770\n",
      "  924 1826 1402 1647 1058  927  600 1186 1940 1029 1032 1299 1054  807\n",
      " 1828 1548  980 1012 1116 1520 1350 1089 1554 1411  800 1567  981 1094\n",
      " 1051  822  755  909 2113  525  851 1486 1686 1181 2097 1454 1465 1679\n",
      " 1437  738 1839  792 2046  923 1291 1668 1195 1190  874  551 1419 2444\n",
      " 1238 1067 1391 1800 1264  372 1824  859 1576 1178 1325  971 1698 1776\n",
      " 1616 1146  948 1349 1464 1720 1038  742  757 1506 1836 1690 1220 1117\n",
      " 1973 1204 1614 1430 1110 1342  966  976 1062 1127 1285  773 1966 1428\n",
      " 1075 1309 1044  686 1661 1008  944 1489 2084 1434 1160  941 1516 1559\n",
      " 1099 1701 1307 1456  918 1779  702 1512 1039 1002 1646 1547 1036  676\n",
      " 1184 1462 1155 1090 1187  954  892 1709 1712  872 2217 1505 1068  951\n",
      " 2364 1670 1063 1636 1020 1105 1015 1001  546  480 1229 1272 1316 1617\n",
      " 1098 1788 1466  925 1905 1500 1207 1188 1381  965 1168  561  696 1542\n",
      "  824  783  673  869 1241 1118 1407  750  691 1574 1504  985 1657 1664\n",
      " 1082 2898 1687 1654 1055 1803 1532 2524 1733 1992 1771  930 1526 1091\n",
      " 1523 1364 1130 1096 1338 1103 1154  799  893  829 1240 1459 1251 1247\n",
      " 1390  438  950  887 1021 1552  812 1530  974  986 1042 1298 1811 1265\n",
      " 1640 1432  959 1831 1261 1170 2129  818 1124 2411  949 1624  831 1622\n",
      "  842  663  879  815 1630 1074 2196 1283 1660 1318 1211 2136 1138 1702\n",
      " 1507 1361 1024 1141 1173 2076 1140 1034 2110 1405  760 1987 1104  713\n",
      " 2018 1968 1332  935 1357  661 1724 1573 1582 1659 4692 1246  753 1203\n",
      " 1294 1902 1274 1787 1061  708 1584 1334  693 1284 1172 2156 2053  992\n",
      " 1078 1980 1281  814 2633 1571  984  754 2117  998 1416 1746 1525 1221\n",
      "  741 1569 1223  962 1537 1932 1423  913 1578 2073 1256] \n",
      "\n",
      "2ndFlrSF [ 854    0  866  756 1053  566  983  752 1142 1218  668 1320  631  716\n",
      "  676  860 1519  530  808  977 1330  833  765  462  213  548  960  670\n",
      " 1116  876  612 1031  881  790  755  592  939  520  639  656 1414  884\n",
      "  729 1523  728  351  688  941 1032  848  836  475  739 1151  448  896\n",
      "  524 1194  956 1070 1096  467  547  551  880  703  901  720  316 1518\n",
      "  704 1178  754  601 1360  929  445  564  882  920  518  817 1257  741\n",
      "  672 1306  504 1304 1100  730  689  591  888 1020  828  700  842 1286\n",
      "  864  829 1092  709  844 1106  596  807  625  649  698  840  780  568\n",
      "  795  648  975  702 1242 1818 1121  371  804  325  809 1200  871 1274\n",
      " 1347 1332 1177 1080  695  167  915  576  605  862  495  403  838  517\n",
      " 1427  784  711  468 1081  886  793  665  858  874  526  590  406 1157\n",
      "  299  936  438 1098  766 1101 1028 1017 1254  378 1160  682  110  600\n",
      "  678  834  384  512  930  868  224 1103  560  811  878  574  910  620\n",
      "  687  546  902 1000  846 1067  914  660 1538 1015 1237  611  707  527\n",
      " 1288  832  806 1182 1040  439  717  511 1129 1370  636  533  745  584\n",
      "  812  684  595  988  800  677  573 1066  778  661 1440  872  788  843\n",
      "  713  567  651  762  482  738  586  679  644  900  887 1872 1281  472\n",
      " 1312  319  978 1093  473  664 1540 1276  441  348 1060  714  744 1203\n",
      "  783 1097  734  767 1589  742  686 1128 1111 1174  787 1072 1088 1063\n",
      "  545  966  623  432  581  540  769 1051  761  779  514  455 1426  785\n",
      "  521  252  813 1120 1037 1169 1001 1215  928 1140 1243  571 1196 1038\n",
      "  561  979  701  332  368  883 1336 1141  634  912  798  985  826  831\n",
      "  750  456  602  855  336  408  980  998 1168 1208  797  850  898 1054\n",
      "  895  954  772 1230  727  454  370  628  304  582 1122 1134  885  640\n",
      "  580 1112  653  220  240 1362  534  539  650  918  933  712 1796  971\n",
      " 1175  743  523 1216 2065  272  685  776  630  984  875  913  464 1039\n",
      " 1259  940  892  725  924  764  925 1479  192  589  992  903  430  748\n",
      "  587  994  950 1323  732 1357  557 1296  390 1185  873 1611  457  796\n",
      "  908  550  989  932  358 1392  349  691 1349  768  208  622  857  556\n",
      " 1044  708  626  904  510 1104  830  981  870  694 1152] \n",
      "\n",
      "LowQualFinSF [  0 360 513 234 528 572 144 392 371 390 420 473 156 515  80  53 232 481\n",
      " 120 514 397 479 205 384] \n",
      "\n",
      "GrLivArea [1710 1262 1786 1717 2198 1362 1694 2090 1774 1077 1040 2324  912 1494\n",
      " 1253  854 1004 1296 1114 1339 2376 1108 1795 1060 1600  900 1704  520\n",
      " 1317 1228 1234 1700 1561 2452 1097 1297 1057 1152 1324 1328  884  938\n",
      " 1150 1752 2149 1656 1452  955 1470 1176  816 1842 1360 1425 1739 1720\n",
      " 2945  780 1158 1111 1370 2034 2473 2207 1479  747 2287 2223  845 1718\n",
      " 1086 1605  988  952 1285 1768 1230 2142 1337 1563 1065 1474 2417 1560\n",
      " 1224 1526  990 1235  964 2291 1588  960  835 1225 1610 1732 1535 1226\n",
      " 1818 1992 1047  789 1517 1844 1855 1430 2696 2259 2320 1458 1092 1125\n",
      " 3222 1456 1123 1080 1199 1586  754  958  840 1348 1053 2157 2054 1327\n",
      " 1721 1682 1214 1959 1852 1764  864 1734 1385 1501 1728 1709  875 2035\n",
      " 1344  969 1993 1252 1200 1096 1968 1947 2462 1232 2668 1541  882 1616\n",
      " 1355 1867 2161 1707 1382 1767 1651 2158 2060 1920 2234  968 1525 1802\n",
      " 1340 2082 3608 1217 1593 2727 1431 1726 3112 2229 1713 1121 1279 1310\n",
      "  848 1284 1442 1696 1100 2062 1212 1392 1236 1436 1954 1248 1498 2267\n",
      " 1552 2392 1302 2520  987 1555 1194 2794  894 1960 1414 1744 1487 1566\n",
      "  866 1440 2110 1872 1928 1375 1668 2144 1306 1625 1640 1314 1604 1792\n",
      " 2574 1316  764 1422 1511 2192  778 1113 1939 1363 2270 1632 1548 2121\n",
      " 2022 1982 1468 1575 1250  858 1396 1919 1716 2263 1644 1003 1558 1950\n",
      " 1743 1336 3493 2000 2243 1406  861 1944  972 1118 2036 1641 1432 2353\n",
      " 2646 1472 2596 2468 2730 1163 2978  803 1719 1383 2134 1192 1056 1629\n",
      " 1358 1638 1922 1536 1621 1215 1908  841 1684 1112 1577 1478 1626 2728\n",
      " 1869 1453  720 1595 1167 1142 1352 1924 1505 1574 1394 1268 1287 1664\n",
      "  752 1319  904  914 2466 1856 1800 1691 1301 1797  784 1953 1269 1184\n",
      " 2332 1367 1961  788 1034 1144 1812 1550 1288  672 1572 1620 1639 1680\n",
      " 2172 2078 1276 1028 2097 1400 2624 1134 1602 2630 1196 1389  907 1208\n",
      " 1412 1198 1365  630 1661  694 2402 1573 1258 1689 1888 1886 1376 1183\n",
      "  813 1533 1756 1590 1242 1663 1666 1203 1935 1135 1660 1277 1634 1502\n",
      " 1969 1072 1976 1652  970 1493 2643 1131 1850 1826 1216  999 1073 1484\n",
      " 2414 1304 1578  886 3228 1820  899 1218 1801 1322 1911 1378 1041 1368\n",
      " 2020 2119 2344 1796 2080 1294 1244 4676 2398 1266  928 2713  605 2515\n",
      " 1509  827  334 1347 1724 1159 1601 1838 2285  767 1496 2183 1635  768\n",
      "  825 2094 1069 1126 2046 1048 1446 1557  996 1674 2295 1647 2504 2132\n",
      "  943 1692 1109 1477 1320 1429 2042 2775 2028  838  860 1473  935 1582\n",
      " 2296  924 1402 1556 1904 1915 1986 2008 3194 1029 2153 1032 1120 1054\n",
      "  832 1828 2262 2614  980 1512 1790 1116 1520 1350 1750 1554 1411 3395\n",
      "  800 1387  796 1567 1518 1929 2704 1766  981 1094 1839 1665 1510 1469\n",
      " 2113 1486 2448 1181 1936 2380 1679 1437 1180 1476 1369 1136 1441  792\n",
      "  923 1291 1761 1102 1419 4316 2519 1539 1137  616 1148 1391 1164 2576\n",
      " 1824  729 1178 2554 2418  971 1742 1698 1776 1146 2031  948 1349 1464\n",
      " 2715 2256 2640 1529 1140 2098 1026 1471 1386 2531 1547 2365 1506 1714\n",
      " 1836 3279 1220 1117 1973 1204 1614 1603 1110 1342 2084  901 2087 1145\n",
      " 1062 2013 1895 1564  773 3140 1688 2822 1128 1428 1576 2138 1309 1044\n",
      " 1008 1052  936 1733 1489 1434 2126 1223 1829 1516 1067 1559 1099 1482\n",
      " 1165 1416 1701 1775 2358 1646 1445 1779 1481 2654 1426 1039 1372 1002\n",
      " 1949  910 2610 2224 1155 1090 2230  892 1712 1393 2217 1683 1068  951\n",
      " 2240 2364 1670  902 1063 1636 2057 2274 1015 2002  480 1229 2127 2200\n",
      " 1617 1686 2374 1978 1788 2236 1466  925 1905 1500 2069 1971 1962 2403\n",
      " 1381  965 1958 2872 1894 1308 1098 1095  918 2019  869 1241 2612 2290\n",
      " 1940 2030 1851 1050  944  691 1504  985 1657 1522 1271 1022 1082 1132\n",
      " 2898 1264 3082 1654  954 1803 2329 2524 2868 1771  930 1977 1989 1523\n",
      " 1364 2184 1991 1338 2337 1103 1154 2260 1571 1611 2521  893 1240 1740\n",
      " 1459 1251 1247 1088  438  950 2622 2021 1690 1658 1964  833 1012  698\n",
      " 1005 1530 1981  974 2210  986 1020 1868 2828 1006 1298  932 1811 1265\n",
      " 1580 1876 1671 2108 3627 1261 3086 2345 1343 1124 2514 4476 1130 1221\n",
      " 1699 1624 1804 1622 1863 1630 1074 2196 1283 1845 1902 1211 1846 2136\n",
      " 1490 1138 1933 1702 1507 2620 1190 1188 1784 1948 1141 1173 2076 1553\n",
      " 2058 1405  874 2167 1987 1166 1675 1889 2018 3447 1524 1357 1395 2447\n",
      " 1659 1970 2372 5642 1246 1983 2526 1708 1122 1274 2810 2599 2112 1787\n",
      " 1923  708  774 2792 1334  693 1861  872 2169 1913 2156 2634 3238 1865\n",
      " 1078 1980 2601 1738 1475 1374 2633  790 2117 1762 2784 1746 1584 1912\n",
      " 2482 1687 1513 1608 2093 1840 1848 1569 2450 2201  804 1537 1932 1725\n",
      " 2555 2007  913 1346 2073 2340 1256] \n",
      "\n",
      "BsmtFullBath [1 0 2 3] \n",
      "\n",
      "BsmtHalfBath [0 1 2] \n",
      "\n"
     ]
    },
    {
     "name": "stdout",
     "output_type": "stream",
     "text": [
      "FullBath [2 1 3 0] \n",
      "\n",
      "HalfBath [1 0 2] \n",
      "\n",
      "BedroomAbvGr [3 4 1 2 0 5 6 8] \n",
      "\n",
      "KitchenAbvGr [1 2 3 0] \n",
      "\n",
      "KitchenQual ['Gd' 'TA' 'Ex' 'Fa'] \n",
      "\n",
      "TotRmsAbvGrd [ 8  6  7  9  5 11  4 10 12  3  2 14] \n",
      "\n",
      "Functional ['Typ' 'Min1' 'Maj1' 'Min2' 'Mod' 'Maj2' 'Sev'] \n",
      "\n",
      "Fireplaces [0 1 2 3] \n",
      "\n",
      "FireplaceQu [nan 'TA' 'Gd' 'Fa' 'Ex' 'Po'] \n",
      "\n",
      "GarageType ['Attchd' 'Detchd' 'BuiltIn' 'CarPort' nan 'Basment' '2Types'] \n",
      "\n",
      "GarageYrBlt [2003. 1976. 2001. 1998. 2000. 1993. 2004. 1973. 1931. 1939. 1965. 2005.\n",
      " 1962. 2006. 1960. 1991. 1970. 1967. 1958. 1930. 2002. 1968. 2007. 2008.\n",
      " 1957. 1920. 1966. 1959. 1995. 1954. 1953.   nan 1983. 1977. 1997. 1985.\n",
      " 1963. 1981. 1964. 1999. 1935. 1990. 1945. 1987. 1989. 1915. 1956. 1948.\n",
      " 1974. 2009. 1950. 1961. 1921. 1900. 1979. 1951. 1969. 1936. 1975. 1971.\n",
      " 1923. 1984. 1926. 1955. 1986. 1988. 1916. 1932. 1972. 1918. 1980. 1924.\n",
      " 1996. 1940. 1949. 1994. 1910. 1978. 1982. 1992. 1925. 1941. 2010. 1927.\n",
      " 1947. 1937. 1942. 1938. 1952. 1928. 1922. 1934. 1906. 1914. 1946. 1908.\n",
      " 1929. 1933.] \n",
      "\n",
      "GarageFinish ['RFn' 'Unf' 'Fin' nan] \n",
      "\n"
     ]
    }
   ],
   "source": [
    "for i in dfnew.columns:\n",
    "    print(i, dfnew[i].unique(), \"\\n\")"
   ]
  },
  {
   "cell_type": "code",
   "execution_count": 105,
   "metadata": {},
   "outputs": [],
   "source": [
    "categorical = [\"CentralAir\",\"Electrical\",\"BsmtFullBath\",\"BsmtHalfBath\",\"FullBath\",\n",
    "              \"HalfBath\",\"BedroomAbvGr\",\"KitchenAbvGr\",\"KitchenQual\",\"TotRmsAbvGrd\",\n",
    "              \"Functional\",\"Fireplaces\",\"FireplaceQu\",\"GarageType\",\"GarageFinish\"]\n",
    "continuous = [\"1stFlrSF\",\"2ndFlrSF\",\"LowQualFinSF\",\"GrLivArea\",\"GarageYrBlt\"]"
   ]
  },
  {
   "cell_type": "code",
   "execution_count": 106,
   "metadata": {},
   "outputs": [],
   "source": [
    "#Assigning a value to the one NA observation in \"Electrical\" column\n",
    "dfnew.loc[dfnew.Electrical.isna(), \"Electrical\"] = \"SBrkr\""
   ]
  },
  {
   "cell_type": "code",
   "execution_count": 107,
   "metadata": {
    "scrolled": true
   },
   "outputs": [],
   "source": [
    "#Assigning a \"None\" value to NaN observations in the following columns\n",
    "dfnew.loc[dfnew.FireplaceQu.isna(), \"FireplaceQu\"] = \"None\"\n",
    "dfnew.loc[dfnew.GarageType.isna(), \"GarageType\"] = \"None\"\n",
    "dfnew.loc[dfnew.GarageYrBlt.isna(), \"GarageYrBlt\"] = \"None\"\n",
    "dfnew.loc[dfnew.GarageFinish.isna(), \"GarageFinish\"] = \"None\""
   ]
  },
  {
   "cell_type": "code",
   "execution_count": 108,
   "metadata": {},
   "outputs": [
    {
     "data": {
      "text/html": [
       "<div>\n",
       "<style scoped>\n",
       "    .dataframe tbody tr th:only-of-type {\n",
       "        vertical-align: middle;\n",
       "    }\n",
       "\n",
       "    .dataframe tbody tr th {\n",
       "        vertical-align: top;\n",
       "    }\n",
       "\n",
       "    .dataframe thead th {\n",
       "        text-align: right;\n",
       "    }\n",
       "</style>\n",
       "<table border=\"1\" class=\"dataframe\">\n",
       "  <thead>\n",
       "    <tr style=\"text-align: right;\">\n",
       "      <th></th>\n",
       "      <th>CentralAir</th>\n",
       "      <th>Electrical</th>\n",
       "      <th>1stFlrSF</th>\n",
       "      <th>2ndFlrSF</th>\n",
       "      <th>LowQualFinSF</th>\n",
       "      <th>GrLivArea</th>\n",
       "      <th>BsmtFullBath</th>\n",
       "      <th>BsmtHalfBath</th>\n",
       "      <th>FullBath</th>\n",
       "      <th>HalfBath</th>\n",
       "      <th>BedroomAbvGr</th>\n",
       "      <th>KitchenAbvGr</th>\n",
       "      <th>KitchenQual</th>\n",
       "      <th>TotRmsAbvGrd</th>\n",
       "      <th>Functional</th>\n",
       "      <th>Fireplaces</th>\n",
       "      <th>FireplaceQu</th>\n",
       "      <th>GarageType</th>\n",
       "      <th>GarageYrBlt</th>\n",
       "      <th>GarageFinish</th>\n",
       "    </tr>\n",
       "  </thead>\n",
       "  <tbody>\n",
       "  </tbody>\n",
       "</table>\n",
       "</div>"
      ],
      "text/plain": [
       "Empty DataFrame\n",
       "Columns: [CentralAir, Electrical, 1stFlrSF, 2ndFlrSF, LowQualFinSF, GrLivArea, BsmtFullBath, BsmtHalfBath, FullBath, HalfBath, BedroomAbvGr, KitchenAbvGr, KitchenQual, TotRmsAbvGrd, Functional, Fireplaces, FireplaceQu, GarageType, GarageYrBlt, GarageFinish]\n",
       "Index: []"
      ]
     },
     "execution_count": 108,
     "metadata": {},
     "output_type": "execute_result"
    }
   ],
   "source": [
    "dfnew[dfnew[\"GarageYrBlt\"].isna()].head()"
   ]
  },
  {
   "cell_type": "code",
   "execution_count": 109,
   "metadata": {},
   "outputs": [
    {
     "data": {
      "text/plain": [
       "Index([], dtype='object')"
      ]
     },
     "execution_count": 109,
     "metadata": {},
     "output_type": "execute_result"
    }
   ],
   "source": [
    "#Making sure there are no more NA values\n",
    "dfnew.columns[dfnew.isna().any()]"
   ]
  },
  {
   "cell_type": "code",
   "execution_count": 114,
   "metadata": {},
   "outputs": [],
   "source": [
    "categorical_df = dfnew[[\"CentralAir\",\"Electrical\",\"BsmtFullBath\",\"BsmtHalfBath\",\"FullBath\",\n",
    "              \"HalfBath\",\"BedroomAbvGr\",\"KitchenAbvGr\",\"KitchenQual\",\"TotRmsAbvGrd\",\n",
    "              \"Functional\",\"Fireplaces\",\"FireplaceQu\",\"GarageType\",\"GarageFinish\"]]\n",
    "continuous_df = dfnew[[\"1stFlrSF\",\"2ndFlrSF\",\"LowQualFinSF\",\"GrLivArea\",\"GarageYrBlt\"]]"
   ]
  },
  {
   "cell_type": "markdown",
   "metadata": {},
   "source": [
    "## Dummify categorical variables"
   ]
  },
  {
   "cell_type": "code",
   "execution_count": 129,
   "metadata": {},
   "outputs": [],
   "source": [
    "categorical_df = categorical_df.astype(object)"
   ]
  },
  {
   "cell_type": "code",
   "execution_count": 131,
   "metadata": {
    "scrolled": true
   },
   "outputs": [
    {
     "data": {
      "text/html": [
       "<div>\n",
       "<style scoped>\n",
       "    .dataframe tbody tr th:only-of-type {\n",
       "        vertical-align: middle;\n",
       "    }\n",
       "\n",
       "    .dataframe tbody tr th {\n",
       "        vertical-align: top;\n",
       "    }\n",
       "\n",
       "    .dataframe thead th {\n",
       "        text-align: right;\n",
       "    }\n",
       "</style>\n",
       "<table border=\"1\" class=\"dataframe\">\n",
       "  <thead>\n",
       "    <tr style=\"text-align: right;\">\n",
       "      <th></th>\n",
       "      <th>CentralAir_N</th>\n",
       "      <th>CentralAir_Y</th>\n",
       "      <th>Electrical_FuseA</th>\n",
       "      <th>Electrical_FuseF</th>\n",
       "      <th>Electrical_FuseP</th>\n",
       "      <th>Electrical_Mix</th>\n",
       "      <th>Electrical_SBrkr</th>\n",
       "      <th>BsmtFullBath_0</th>\n",
       "      <th>BsmtFullBath_1</th>\n",
       "      <th>BsmtFullBath_2</th>\n",
       "      <th>...</th>\n",
       "      <th>GarageType_None</th>\n",
       "      <th>GarageFinish_Fin</th>\n",
       "      <th>GarageFinish_None</th>\n",
       "      <th>GarageFinish_RFn</th>\n",
       "      <th>GarageFinish_Unf</th>\n",
       "      <th>1stFlrSF</th>\n",
       "      <th>2ndFlrSF</th>\n",
       "      <th>LowQualFinSF</th>\n",
       "      <th>GrLivArea</th>\n",
       "      <th>GarageYrBlt</th>\n",
       "    </tr>\n",
       "  </thead>\n",
       "  <tbody>\n",
       "    <tr>\n",
       "      <th>0</th>\n",
       "      <td>0</td>\n",
       "      <td>1</td>\n",
       "      <td>0</td>\n",
       "      <td>0</td>\n",
       "      <td>0</td>\n",
       "      <td>0</td>\n",
       "      <td>1</td>\n",
       "      <td>0</td>\n",
       "      <td>1</td>\n",
       "      <td>0</td>\n",
       "      <td>...</td>\n",
       "      <td>0</td>\n",
       "      <td>0</td>\n",
       "      <td>0</td>\n",
       "      <td>1</td>\n",
       "      <td>0</td>\n",
       "      <td>856</td>\n",
       "      <td>854</td>\n",
       "      <td>0</td>\n",
       "      <td>1710</td>\n",
       "      <td>2003</td>\n",
       "    </tr>\n",
       "    <tr>\n",
       "      <th>1</th>\n",
       "      <td>0</td>\n",
       "      <td>1</td>\n",
       "      <td>0</td>\n",
       "      <td>0</td>\n",
       "      <td>0</td>\n",
       "      <td>0</td>\n",
       "      <td>1</td>\n",
       "      <td>1</td>\n",
       "      <td>0</td>\n",
       "      <td>0</td>\n",
       "      <td>...</td>\n",
       "      <td>0</td>\n",
       "      <td>0</td>\n",
       "      <td>0</td>\n",
       "      <td>1</td>\n",
       "      <td>0</td>\n",
       "      <td>1262</td>\n",
       "      <td>0</td>\n",
       "      <td>0</td>\n",
       "      <td>1262</td>\n",
       "      <td>1976</td>\n",
       "    </tr>\n",
       "    <tr>\n",
       "      <th>2</th>\n",
       "      <td>0</td>\n",
       "      <td>1</td>\n",
       "      <td>0</td>\n",
       "      <td>0</td>\n",
       "      <td>0</td>\n",
       "      <td>0</td>\n",
       "      <td>1</td>\n",
       "      <td>0</td>\n",
       "      <td>1</td>\n",
       "      <td>0</td>\n",
       "      <td>...</td>\n",
       "      <td>0</td>\n",
       "      <td>0</td>\n",
       "      <td>0</td>\n",
       "      <td>1</td>\n",
       "      <td>0</td>\n",
       "      <td>920</td>\n",
       "      <td>866</td>\n",
       "      <td>0</td>\n",
       "      <td>1786</td>\n",
       "      <td>2001</td>\n",
       "    </tr>\n",
       "    <tr>\n",
       "      <th>3</th>\n",
       "      <td>0</td>\n",
       "      <td>1</td>\n",
       "      <td>0</td>\n",
       "      <td>0</td>\n",
       "      <td>0</td>\n",
       "      <td>0</td>\n",
       "      <td>1</td>\n",
       "      <td>0</td>\n",
       "      <td>1</td>\n",
       "      <td>0</td>\n",
       "      <td>...</td>\n",
       "      <td>0</td>\n",
       "      <td>0</td>\n",
       "      <td>0</td>\n",
       "      <td>0</td>\n",
       "      <td>1</td>\n",
       "      <td>961</td>\n",
       "      <td>756</td>\n",
       "      <td>0</td>\n",
       "      <td>1717</td>\n",
       "      <td>1998</td>\n",
       "    </tr>\n",
       "    <tr>\n",
       "      <th>4</th>\n",
       "      <td>0</td>\n",
       "      <td>1</td>\n",
       "      <td>0</td>\n",
       "      <td>0</td>\n",
       "      <td>0</td>\n",
       "      <td>0</td>\n",
       "      <td>1</td>\n",
       "      <td>0</td>\n",
       "      <td>1</td>\n",
       "      <td>0</td>\n",
       "      <td>...</td>\n",
       "      <td>0</td>\n",
       "      <td>0</td>\n",
       "      <td>0</td>\n",
       "      <td>1</td>\n",
       "      <td>0</td>\n",
       "      <td>1145</td>\n",
       "      <td>1053</td>\n",
       "      <td>0</td>\n",
       "      <td>2198</td>\n",
       "      <td>2000</td>\n",
       "    </tr>\n",
       "  </tbody>\n",
       "</table>\n",
       "<p>5 rows × 82 columns</p>\n",
       "</div>"
      ],
      "text/plain": [
       "   CentralAir_N  CentralAir_Y  Electrical_FuseA  Electrical_FuseF  \\\n",
       "0             0             1                 0                 0   \n",
       "1             0             1                 0                 0   \n",
       "2             0             1                 0                 0   \n",
       "3             0             1                 0                 0   \n",
       "4             0             1                 0                 0   \n",
       "\n",
       "   Electrical_FuseP  Electrical_Mix  Electrical_SBrkr  BsmtFullBath_0  \\\n",
       "0                 0               0                 1               0   \n",
       "1                 0               0                 1               1   \n",
       "2                 0               0                 1               0   \n",
       "3                 0               0                 1               0   \n",
       "4                 0               0                 1               0   \n",
       "\n",
       "   BsmtFullBath_1  BsmtFullBath_2     ...       GarageType_None  \\\n",
       "0               1               0     ...                     0   \n",
       "1               0               0     ...                     0   \n",
       "2               1               0     ...                     0   \n",
       "3               1               0     ...                     0   \n",
       "4               1               0     ...                     0   \n",
       "\n",
       "   GarageFinish_Fin  GarageFinish_None  GarageFinish_RFn  GarageFinish_Unf  \\\n",
       "0                 0                  0                 1                 0   \n",
       "1                 0                  0                 1                 0   \n",
       "2                 0                  0                 1                 0   \n",
       "3                 0                  0                 0                 1   \n",
       "4                 0                  0                 1                 0   \n",
       "\n",
       "   1stFlrSF  2ndFlrSF  LowQualFinSF  GrLivArea  GarageYrBlt  \n",
       "0       856       854             0       1710         2003  \n",
       "1      1262         0             0       1262         1976  \n",
       "2       920       866             0       1786         2001  \n",
       "3       961       756             0       1717         1998  \n",
       "4      1145      1053             0       2198         2000  \n",
       "\n",
       "[5 rows x 82 columns]"
      ]
     },
     "execution_count": 131,
     "metadata": {},
     "output_type": "execute_result"
    }
   ],
   "source": [
    "dummied_df = pd.get_dummies(categorical_df)\n",
    "final_df = pd.concat([dummied_df, continuous_df], axis=1)\n",
    "final_df.head()"
   ]
  },
  {
   "cell_type": "code",
   "execution_count": 134,
   "metadata": {},
   "outputs": [],
   "source": [
    "final_df.to_pickle(\"./ray_pickle_df.pkl\")"
   ]
  },
  {
   "cell_type": "markdown",
   "metadata": {},
   "source": [
    "## Further Exploratory"
   ]
  },
  {
   "cell_type": "code",
   "execution_count": 132,
   "metadata": {},
   "outputs": [
    {
     "data": {
      "text/plain": [
       "Index(['CentralAir', 'Electrical', '1stFlrSF', '2ndFlrSF', 'LowQualFinSF',\n",
       "       'GrLivArea', 'BsmtFullBath', 'BsmtHalfBath', 'FullBath', 'HalfBath',\n",
       "       'BedroomAbvGr', 'KitchenAbvGr', 'KitchenQual', 'TotRmsAbvGrd',\n",
       "       'Functional', 'Fireplaces', 'FireplaceQu', 'GarageType', 'GarageYrBlt',\n",
       "       'GarageFinish'],\n",
       "      dtype='object')"
      ]
     },
     "execution_count": 132,
     "metadata": {},
     "output_type": "execute_result"
    }
   ],
   "source": [
    "dfnew.columns"
   ]
  },
  {
   "cell_type": "code",
   "execution_count": 27,
   "metadata": {
    "scrolled": true
   },
   "outputs": [
    {
     "data": {
      "text/plain": [
       "array([[<matplotlib.axes._subplots.AxesSubplot object at 0x0000027BEF04B550>,\n",
       "        <matplotlib.axes._subplots.AxesSubplot object at 0x0000027BEBA5DAC8>,\n",
       "        <matplotlib.axes._subplots.AxesSubplot object at 0x0000027BEF06AC50>],\n",
       "       [<matplotlib.axes._subplots.AxesSubplot object at 0x0000027BEF3661D0>,\n",
       "        <matplotlib.axes._subplots.AxesSubplot object at 0x0000027BEF59A710>,\n",
       "        <matplotlib.axes._subplots.AxesSubplot object at 0x0000027BEF59A748>],\n",
       "       [<matplotlib.axes._subplots.AxesSubplot object at 0x0000027BEFB0C240>,\n",
       "        <matplotlib.axes._subplots.AxesSubplot object at 0x0000027BEFC2E240>,\n",
       "        <matplotlib.axes._subplots.AxesSubplot object at 0x0000027BEEEC2240>],\n",
       "       [<matplotlib.axes._subplots.AxesSubplot object at 0x0000027BEFB19550>,\n",
       "        <matplotlib.axes._subplots.AxesSubplot object at 0x0000027BEF2A2C50>,\n",
       "        <matplotlib.axes._subplots.AxesSubplot object at 0x0000027BEFB6F160>]],\n",
       "      dtype=object)"
      ]
     },
     "execution_count": 27,
     "metadata": {},
     "output_type": "execute_result"
    },
    {
     "data": {
      "image/png": "[encoded data removed]",
      "text/plain": [
       "<matplotlib.figure.Figure at 0x27bef04b160>"
      ]
     },
     "metadata": {},
     "output_type": "display_data"
    }
   ],
   "source": [
    "import matplotlib.pyplot as plt\n",
    "dfnew.hist(figsize = (20,20))"
   ]
  },
  {
   "cell_type": "code",
   "execution_count": 93,
   "metadata": {},
   "outputs": [
    {
     "data": {
      "text/plain": [
       "Index(['BsmtFullBath', 'BsmtHalfBath', 'FullBath', 'HalfBath', 'BedroomAbvGr',\n",
       "       'KitchenAbvGr', 'TotRmsAbvGrd', 'Fireplaces', 'CentralAir_N',\n",
       "       'CentralAir_Y', 'Electrical_FuseA', 'Electrical_FuseF',\n",
       "       'Electrical_FuseP', 'Electrical_Mix', 'Electrical_SBrkr',\n",
       "       'KitchenQual_Ex', 'KitchenQual_Fa', 'KitchenQual_Gd', 'KitchenQual_TA',\n",
       "       'Functional_Maj1', 'Functional_Maj2', 'Functional_Min1',\n",
       "       'Functional_Min2', 'Functional_Mod', 'Functional_Sev', 'Functional_Typ',\n",
       "       'FireplaceQu_Ex', 'FireplaceQu_Fa', 'FireplaceQu_Gd',\n",
       "       'FireplaceQu_None', 'FireplaceQu_Po', 'FireplaceQu_TA',\n",
       "       'GarageType_2Types', 'GarageType_Attchd', 'GarageType_Basment',\n",
       "       'GarageType_BuiltIn', 'GarageType_CarPort', 'GarageType_Detchd',\n",
       "       'GarageType_None', 'GarageFinish_Fin', 'GarageFinish_None',\n",
       "       'GarageFinish_RFn', 'GarageFinish_Unf', 'CentralAir', 'Electrical',\n",
       "       '1stFlrSF', '2ndFlrSF', 'LowQualFinSF', 'GrLivArea', 'BsmtFullBath',\n",
       "       'BsmtHalfBath', 'FullBath', 'HalfBath', 'BedroomAbvGr', 'KitchenAbvGr',\n",
       "       'KitchenQual', 'TotRmsAbvGrd', 'Functional', 'Fireplaces',\n",
       "       'FireplaceQu', 'GarageType', 'GarageYrBlt', 'GarageFinish'],\n",
       "      dtype='object')"
      ]
     },
     "execution_count": 93,
     "metadata": {},
     "output_type": "execute_result"
    }
   ],
   "source": [
    "final_df.columns[`]"
   ]
  },
  {
   "cell_type": "code",
   "execution_count": null,
   "metadata": {},
   "outputs": [],
   "source": []
  }
 ],
 "metadata": {
  "kernelspec": {
   "display_name": "Python 3",
   "language": "python",
   "name": "python3"
  },
  "language_info": {
   "codemirror_mode": {
    "name": "ipython",
    "version": 3
   },
   "file_extension": ".py",
   "mimetype": "text/x-python",
   "name": "python",
   "nbconvert_exporter": "python",
   "pygments_lexer": "ipython3",
   "version": "3.7.0"
  }
 },
 "nbformat": 4,
 "nbformat_minor": 2
}
