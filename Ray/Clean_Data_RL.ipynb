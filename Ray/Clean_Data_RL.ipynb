{
 "cells": [
  {
   "cell_type": "code",
   "execution_count": 1,
   "metadata": {},
   "outputs": [],
   "source": [
    "import matplotlib.pyplot as plt\n",
    "import numpy as np\n",
    "import pandas as pd\n",
    "\n",
    "\n",
    "from scipy.stats import skew\n",
    "from scipy.special import boxcox1p\n",
    "\n",
    "from sklearn.feature_selection import RFECV\n",
    "from sklearn.linear_model import Lasso\n",
    "from sklearn.model_selection import cross_val_score\n",
    "from sklearn.preprocessing import StandardScaler\n",
    "\n",
    "import re\n",
    "\n",
    "from IPython.display import display\n",
    "pd.options.display.max_columns = 500"
   ]
  },
  {
   "cell_type": "markdown",
   "metadata": {},
   "source": [
    "### Creating a function to save as csv"
   ]
  },
  {
   "cell_type": "code",
   "execution_count": 38,
   "metadata": {},
   "outputs": [],
   "source": [
    "def predict_tocsv(yhat_test):\n",
    "    predicted = pd.DataFrame({\"Id\": np.arange(1461,2920), \"SalePrice\": yhat_test})\n",
    "    return predicted.to_csv(\"./predicted.csv\", index=False)"
   ]
  },
  {
   "cell_type": "markdown",
   "metadata": {},
   "source": [
    "## Import data set"
   ]
  },
  {
   "cell_type": "code",
   "execution_count": 2,
   "metadata": {},
   "outputs": [],
   "source": [
    "train_raw = pd.read_csv('data/train.csv')\n",
    "test_raw = pd.read_csv('data/test.csv')"
   ]
  },
  {
   "cell_type": "code",
   "execution_count": 3,
   "metadata": {},
   "outputs": [],
   "source": [
    "train = pd.read_csv('data/train.csv')\n",
    "test = pd.read_csv('data/test.csv')"
   ]
  },
  {
   "cell_type": "markdown",
   "metadata": {},
   "source": [
    "## Outliers"
   ]
  },
  {
   "cell_type": "markdown",
   "metadata": {},
   "source": [
    "* We need to add justification"
   ]
  },
  {
   "cell_type": "code",
   "execution_count": 4,
   "metadata": {},
   "outputs": [],
   "source": [
    "# remove outliers\n",
    "train = train[~((train['GrLivArea'] > 4000) & (train['SalePrice'] < 300000))]"
   ]
  },
  {
   "cell_type": "code",
   "execution_count": 5,
   "metadata": {},
   "outputs": [],
   "source": [
    "train = train[~((train['MasVnrArea'] > 1400) & (train['SalePrice'] < 300000))]"
   ]
  },
  {
   "cell_type": "code",
   "execution_count": 6,
   "metadata": {},
   "outputs": [],
   "source": [
    "train = train[~((train['LotFrontage'] > 300) & (train['SalePrice'] < 300000 ))]"
   ]
  },
  {
   "cell_type": "code",
   "execution_count": 7,
   "metadata": {
    "scrolled": true
   },
   "outputs": [],
   "source": [
    "train = train[~((train['LotArea'] > 200000) & (train['SalePrice'] < 500000 ))]"
   ]
  },
  {
   "cell_type": "code",
   "execution_count": 8,
   "metadata": {},
   "outputs": [],
   "source": [
    "# train = train[~((train['YearBuilt'] < 1900) & (train['SalePrice'] > 400000))]"
   ]
  },
  {
   "cell_type": "code",
   "execution_count": 9,
   "metadata": {},
   "outputs": [],
   "source": [
    "train = train[~((train['OpenPorchSF'] > 500) & (train['SalePrice'] < 100000))]"
   ]
  },
  {
   "cell_type": "code",
   "execution_count": 10,
   "metadata": {},
   "outputs": [],
   "source": [
    "# train.drop('TotalBsmtSF', axis= 1, inplace=True)\n",
    "# test.drop('TotalBsmtSF', axis= 1, inplace=True)\n",
    "\n",
    "\n",
    "# train['TwoStory'] = train['2ndFlrSF'].isna().apply(lambda x: int(not x))\n",
    "# test['TwoStory'] = test['2ndFlrSF'].isna().apply(lambda x: int(not x))\n",
    "\n",
    "# train['SF'] = train['1stFlrSF'] + train['2ndFlrSF']\n",
    "# train.drop(['1stFlrSF','2ndFlrSF'], axis= 1, inplace=True)\n",
    "\n",
    "# test['SF'] = test['1stFlrSF'] + test['2ndFlrSF']\n",
    "# test.drop(['1stFlrSF','2ndFlrSF'], axis= 1, inplace=True)\n"
   ]
  },
  {
   "cell_type": "markdown",
   "metadata": {},
   "source": [
    "## Remove SalePrice and Id"
   ]
  },
  {
   "cell_type": "code",
   "execution_count": 11,
   "metadata": {},
   "outputs": [],
   "source": [
    "response_variable = np.log1p(train.SalePrice)\n",
    "id_ = test.Id\n",
    "train = train.loc[:,'MSSubClass':'SaleCondition']\n",
    "test = test.loc[:,'MSSubClass':'SaleCondition']"
   ]
  },
  {
   "cell_type": "markdown",
   "metadata": {},
   "source": [
    "## Multicoliearity "
   ]
  },
  {
   "cell_type": "markdown",
   "metadata": {},
   "source": [
    "We need to add justification"
   ]
  },
  {
   "cell_type": "code",
   "execution_count": 12,
   "metadata": {},
   "outputs": [],
   "source": [
    "# drop some features to avoid multicollinearity\n",
    "train.drop(['GarageArea', 'TotRmsAbvGrd'], axis=1, inplace=True)\n",
    "test.drop(['GarageArea', 'TotRmsAbvGrd'], axis=1, inplace=True)"
   ]
  },
  {
   "cell_type": "markdown",
   "metadata": {},
   "source": [
    "## Skewdness"
   ]
  },
  {
   "cell_type": "code",
   "execution_count": 13,
   "metadata": {},
   "outputs": [],
   "source": [
    "numeric_feats = train.dtypes[train.dtypes != \"object\"].index"
   ]
  },
  {
   "cell_type": "markdown",
   "metadata": {},
   "source": [
    "Try different values"
   ]
  },
  {
   "cell_type": "code",
   "execution_count": 14,
   "metadata": {},
   "outputs": [],
   "source": [
    "skewed_feats = train[numeric_feats].apply(lambda x: skew(x.dropna())) #compute skewness\n",
    "skewed_feats = skewed_feats[skewed_feats > 0.65]\n",
    "skewed_feats = skewed_feats.index\n",
    "\n",
    "train[skewed_feats] = boxcox1p(train[skewed_feats], 0.15)\n",
    "test[skewed_feats] = boxcox1p(test[skewed_feats], 0.15)"
   ]
  },
  {
   "cell_type": "markdown",
   "metadata": {},
   "source": [
    "## Dummification"
   ]
  },
  {
   "cell_type": "code",
   "execution_count": 15,
   "metadata": {},
   "outputs": [],
   "source": [
    "train = pd.get_dummies(train)\n",
    "train = train.fillna(train.mean())"
   ]
  },
  {
   "cell_type": "code",
   "execution_count": 16,
   "metadata": {},
   "outputs": [],
   "source": [
    "test = test.fillna(test.mean())"
   ]
  },
  {
   "cell_type": "code",
   "execution_count": 17,
   "metadata": {},
   "outputs": [],
   "source": [
    "test = pd.get_dummies(test)"
   ]
  },
  {
   "cell_type": "code",
   "execution_count": 18,
   "metadata": {},
   "outputs": [],
   "source": [
    "train_cols = set(train.columns)\n",
    "test_cols = set(test.columns)\n",
    "\n",
    "test_drop =  list(test_cols - train_cols)\n",
    "test_unkonwn_dummies = list(train_cols - test_cols)"
   ]
  },
  {
   "cell_type": "code",
   "execution_count": 19,
   "metadata": {},
   "outputs": [],
   "source": [
    "test_dummies2 = test.reindex(columns=test_unkonwn_dummies, fill_value=0)"
   ]
  },
  {
   "cell_type": "code",
   "execution_count": 20,
   "metadata": {},
   "outputs": [],
   "source": [
    "test = pd.concat([test, test_dummies2], axis=1)"
   ]
  },
  {
   "cell_type": "code",
   "execution_count": 21,
   "metadata": {},
   "outputs": [],
   "source": [
    "test = test[train.columns]"
   ]
  },
  {
   "cell_type": "code",
   "execution_count": 22,
   "metadata": {},
   "outputs": [],
   "source": [
    "train['SalePrice'] = response_variable"
   ]
  },
  {
   "cell_type": "markdown",
   "metadata": {},
   "source": [
    "# Feature Engineering"
   ]
  },
  {
   "cell_type": "markdown",
   "metadata": {},
   "source": [
    "## Age"
   ]
  },
  {
   "cell_type": "code",
   "execution_count": 23,
   "metadata": {},
   "outputs": [],
   "source": [
    "# Yb = train_df['YearBuilt']\n",
    "\n",
    "# range_bins = [(1800,1900), (1900,1910), (1910,1920), (1920,1930), (1930,1940), (1940,1950), (1950,1960), (1960,1970), (1970,1980), (1980,1990), (1990,2000), (2000,2011)]\n",
    "\n",
    "# bins = {r:x for (x,y) in range_bins for r in range(x,y)}\n",
    "\n",
    "# train_df = pd.concat([train_df.drop('YearBuilt', axis=1), Yb.map(bins)], axis=1)\n",
    "# Yb = test_df['YearBuilt']\n",
    "\n",
    "# test = pd.concat([test.drop('YearBuilt', axis=1), Yb.map(bins)], axis=1)\n"
   ]
  },
  {
   "cell_type": "code",
   "execution_count": 24,
   "metadata": {},
   "outputs": [],
   "source": [
    "# train[['Age']] = train[['YearBuilt']].apply(lambda x: x.max() - x)\n",
    "# train = train.drop('YearBuilt', axis=1)\n",
    "# test[['Age']] = test[['YearBuilt']].apply(lambda x: x.max() - x)\n",
    "# test = test.drop('YearBuilt', axis=1)"
   ]
  },
  {
   "cell_type": "markdown",
   "metadata": {},
   "source": [
    "## Garage Age"
   ]
  },
  {
   "cell_type": "code",
   "execution_count": 25,
   "metadata": {},
   "outputs": [],
   "source": [
    "# test['GarageYrBlt'] = test['GarageYrBlt'].isna().apply(lambda x: int(not x))"
   ]
  },
  {
   "cell_type": "code",
   "execution_count": 26,
   "metadata": {},
   "outputs": [],
   "source": [
    "# train['GarageYrBlt'] = train['GarageYrBlt'].isna().apply(lambda x: int(not x))"
   ]
  },
  {
   "cell_type": "code",
   "execution_count": 27,
   "metadata": {},
   "outputs": [],
   "source": [
    "# train['GarageYrBlt'] = train['YrSold'] - train['GarageYrBlt']"
   ]
  },
  {
   "cell_type": "code",
   "execution_count": 28,
   "metadata": {},
   "outputs": [],
   "source": [
    "# test['GarageYrBlt'] = test['YrSold'] - test['GarageYrBlt']"
   ]
  },
  {
   "cell_type": "markdown",
   "metadata": {},
   "source": [
    "## YearRemodAdd"
   ]
  },
  {
   "cell_type": "code",
   "execution_count": 29,
   "metadata": {},
   "outputs": [],
   "source": [
    "# train['YearRemodAdd']  = (train['YrSold'] - train['YearRemodAdd'])\n",
    "# test['YearRemodAdd']  = (test['YrSold'] - test['YearRemodAdd'])"
   ]
  },
  {
   "cell_type": "code",
   "execution_count": 30,
   "metadata": {},
   "outputs": [],
   "source": [
    "# train.to_pickle('train.pkl')\n",
    "# test.to_pickle('test.pkl')"
   ]
  },
  {
   "cell_type": "code",
   "execution_count": 31,
   "metadata": {},
   "outputs": [],
   "source": [
    "# cont = train.T[np.array(train.nunique() > 70)].T.columns.drop('SalePrice')\n",
    "# scale = StandardScaler()\n",
    "# train[cont] = scale.fit_transform(train[cont])\n",
    "\n",
    "# cont = test.T[np.array(test.nunique() > 70)].T.columns\n",
    "# scale = StandardScaler()\n",
    "# test[cont] = scale.fit_transform(test[cont])"
   ]
  },
  {
   "cell_type": "markdown",
   "metadata": {},
   "source": [
    "## Train Test Split"
   ]
  },
  {
   "cell_type": "code",
   "execution_count": 32,
   "metadata": {},
   "outputs": [],
   "source": [
    "#split\n",
    "X_train = train.drop('SalePrice', axis=1)\n",
    "X_test = test\n",
    "y_train = response_variable"
   ]
  },
  {
   "cell_type": "markdown",
   "metadata": {},
   "source": [
    "## Modeling"
   ]
  },
  {
   "cell_type": "markdown",
   "metadata": {},
   "source": [
    "<b> Lasso Grid </b>"
   ]
  },
  {
   "cell_type": "code",
   "execution_count": 84,
   "metadata": {},
   "outputs": [
    {
     "data": {
      "text/plain": [
       "Lasso(alpha=0.0004, copy_X=True, fit_intercept=True, max_iter=5000,\n",
       "   normalize=False, positive=False, precompute=False, random_state=None,\n",
       "   selection='cyclic', tol=0.0001, warm_start=False)"
      ]
     },
     "execution_count": 84,
     "metadata": {},
     "output_type": "execute_result"
    }
   ],
   "source": [
    "from sklearn.model_selection import GridSearchCV\n",
    "from sklearn.linear_model import Lasso\n",
    "\n",
    "lasso = Lasso(max_iter=5000)\n",
    "\n",
    "alphas = [.0004] #np.logspace(-4, -2, 100)\n",
    "\n",
    "grid_lasso = GridSearchCV(estimator=lasso,\n",
    "    param_grid=dict(alpha=alphas), cv=10, scoring='neg_mean_squared_error')\n",
    "\n",
    "grid_lasso.fit(X_train, y_train)\n",
    "\n",
    "y_hats = grid_lasso.best_estimator_.predict(X_train)\n",
    "test_predictions = np.expm1(grid_lasso.best_estimator_.predict(X_test))\n",
    "\n",
    "grid_lasso.best_estimator_.fit(X_train, y_train)\n",
    "grid_lasso.best_estimator_.score(X_train, y_train)\n",
    "grid_lasso.best_estimator_"
   ]
  },
  {
   "cell_type": "code",
   "execution_count": 86,
   "metadata": {},
   "outputs": [
    {
     "data": {
      "text/plain": [
       "array([0.1089201])"
      ]
     },
     "execution_count": 86,
     "metadata": {},
     "output_type": "execute_result"
    }
   ],
   "source": [
    "np.sqrt(-grid_lasso.cv_results_[\"mean_test_score\"])"
   ]
  },
  {
   "cell_type": "markdown",
   "metadata": {},
   "source": [
    "<b> Ridge Grid </b>"
   ]
  },
  {
   "cell_type": "code",
   "execution_count": 115,
   "metadata": {},
   "outputs": [
    {
     "data": {
      "text/plain": [
       "Ridge(alpha=9, copy_X=True, fit_intercept=True, max_iter=5000,\n",
       "   normalize=False, random_state=None, solver='auto', tol=0.001)"
      ]
     },
     "execution_count": 115,
     "metadata": {},
     "output_type": "execute_result"
    }
   ],
   "source": [
    "from sklearn.model_selection import GridSearchCV\n",
    "from sklearn.linear_model import Ridge\n",
    "\n",
    "ridge = Ridge(max_iter=5000)\n",
    "\n",
    "alphas = [i for i in range(1,20)]\n",
    "grid_ridge = GridSearchCV(estimator=ridge,\n",
    "    param_grid=dict(alpha=alphas), cv=10, scoring='neg_mean_squared_error')\n",
    "\n",
    "grid_ridge.fit(X_train, y_train)\n",
    "\n",
    "y_hats = grid_ridge.best_estimator_.predict(X_train)\n",
    "test_predictions = np.expm1(grid_ridge.best_estimator_.predict(X_test))\n",
    "\n",
    "grid_ridge.best_estimator_.fit(X_train, y_train)\n",
    "grid_ridge.best_estimator_.score(X_train, y_train)\n",
    "grid_ridge.best_estimator_"
   ]
  },
  {
   "cell_type": "code",
   "execution_count": 109,
   "metadata": {},
   "outputs": [
    {
     "name": "stdout",
     "output_type": "stream",
     "text": [
      "{'alpha': 0.1} -0.013669821637574131\n"
     ]
    }
   ],
   "source": [
    "print(grid_ridge.best_params_, grid_ridge.best_score_)"
   ]
  },
  {
   "cell_type": "code",
   "execution_count": null,
   "metadata": {},
   "outputs": [],
   "source": []
  },
  {
   "cell_type": "markdown",
   "metadata": {},
   "source": [
    "<b> Elastic Net </b>"
   ]
  },
  {
   "cell_type": "code",
   "execution_count": 146,
   "metadata": {},
   "outputs": [
    {
     "data": {
      "text/plain": [
       "ElasticNet(alpha=0.0009, copy_X=True, fit_intercept=True, l1_ratio=0.5,\n",
       "      max_iter=5000, normalize=False, positive=False, precompute=False,\n",
       "      random_state=None, selection='cyclic', tol=0.0001, warm_start=False)"
      ]
     },
     "execution_count": 146,
     "metadata": {},
     "output_type": "execute_result"
    }
   ],
   "source": [
    "from sklearn.model_selection import GridSearchCV\n",
    "from sklearn.linear_model import ElasticNet\n",
    "\n",
    "elastic = ElasticNet(max_iter=5000)\n",
    "\n",
    "alphas = [i/10000 for i in range(5,15)] \n",
    "\n",
    "grid_elastic = GridSearchCV(estimator=elastic,\n",
    "    param_grid=dict(alpha=alphas), scoring='neg_mean_squared_error')\n",
    "\n",
    "grid_elastic.fit(X_train, y_train)\n",
    "\n",
    "y_hats = grid_elastic.best_estimator_.predict(X_train)\n",
    "test_predictions = np.expm1(grid_elastic.best_estimator_.predict(X_test))\n",
    "\n",
    "grid_elastic.best_estimator_.fit(X_train, y_train)\n",
    "grid_elastic.best_estimator_.score(X_train, y_train)\n",
    "grid_elastic.best_estimator_"
   ]
  },
  {
   "cell_type": "markdown",
   "metadata": {},
   "source": [
    "<b> Random Forest </b>"
   ]
  },
  {
   "cell_type": "code",
   "execution_count": 82,
   "metadata": {},
   "outputs": [],
   "source": [
    "from sklearn.model_selection import GridSearchCV\n",
    "from sklearn.ensemble import RandomForestRegressor\n",
    "\n",
    "rf_param = {\n",
    "    \"n_estimators\": np.linspace(start=100, stop=1000, num=10, dtype=int)\n",
    "}\n",
    "\n",
    "rf = RandomForestRegressor(oob_score=True, min_samples_leaf=2, min_samples_split=2, random_state=100)\n",
    "grid_rf = GridSearchCV(rf, rf_param, n_jobs=-1)"
   ]
  },
  {
   "cell_type": "markdown",
   "metadata": {},
   "source": [
    "## Prediciton"
   ]
  },
  {
   "cell_type": "code",
   "execution_count": 34,
   "metadata": {},
   "outputs": [
    {
     "data": {
      "text/plain": [
       "[<matplotlib.lines.Line2D at 0x1463247beb8>]"
      ]
     },
     "execution_count": 34,
     "metadata": {},
     "output_type": "execute_result"
    },
    {
     "data": {
      "image/png": "[encoded data removed]",
      "text/plain": [
       "<Figure size 432x288 with 1 Axes>"
      ]
     },
     "metadata": {
      "needs_background": "light"
     },
     "output_type": "display_data"
    }
   ],
   "source": [
    "true_line = np.linspace(0, np.expm1(y_train.max()), 50)\n",
    "\n",
    "pd.DataFrame({'y_hat': np.expm1(y_hats), 'y': np.expm1(y_train)}).plot(\n",
    "    kind='scatter', x='y_hat', y='y').plot(true_line,\n",
    "    true_line,  c='red')"
   ]
  },
  {
   "cell_type": "code",
   "execution_count": 35,
   "metadata": {
    "scrolled": true
   },
   "outputs": [],
   "source": [
    "coef_df = pd.DataFrame({'cols': X_train.columns,'coef': grid.best_estimator_.coef_}, index=X_train.columns )"
   ]
  },
  {
   "cell_type": "markdown",
   "metadata": {},
   "source": [
    "Cross Validation Scores"
   ]
  },
  {
   "cell_type": "code",
   "execution_count": 37,
   "metadata": {},
   "outputs": [
    {
     "data": {
      "text/plain": [
       "0.2557327002851105"
      ]
     },
     "execution_count": 37,
     "metadata": {},
     "output_type": "execute_result"
    }
   ],
   "source": [
    "#cross validation scores\n",
    "\n",
    "from sklearn.model_selection import KFold, cross_val_score\n",
    "\n",
    "n_folds = 5\n",
    "\n",
    "def rmsle_cv(model):\n",
    "    kf = KFold(n_folds, shuffle=True, random_state=42).get_n_splits(train.values)\n",
    "    rmse= np.sqrt(-cross_val_score(model, X_train, y_train, scoring=\"neg_mean_squared_error\", cv = kf))\n",
    "    return(rmse)"
   ]
  },
  {
   "cell_type": "code",
   "execution_count": 47,
   "metadata": {},
   "outputs": [
    {
     "name": "stdout",
     "output_type": "stream",
     "text": [
      "Lasso RMSE: 0.1098\n"
     ]
    }
   ],
   "source": [
    "print(\"Lasso RMSE: %0.4f\" %rmsle_cv(grid_lasso).mean())"
   ]
  },
  {
   "cell_type": "code",
   "execution_count": 116,
   "metadata": {},
   "outputs": [
    {
     "name": "stdout",
     "output_type": "stream",
     "text": [
      "Ridge RMSE: 0.1124\n"
     ]
    }
   ],
   "source": [
    "print(\"Ridge RMSE: %0.4f\" %rmsle_cv(grid_ridge).mean())"
   ]
  },
  {
   "cell_type": "code",
   "execution_count": 94,
   "metadata": {},
   "outputs": [
    {
     "name": "stdout",
     "output_type": "stream",
     "text": [
      "Elastic Net RMSE: 0.1100\n"
     ]
    }
   ],
   "source": [
    "print(\"Elastic Net RMSE: %0.4f\" %rmsle_cv(grid_elastic).mean())"
   ]
  },
  {
   "cell_type": "code",
   "execution_count": 83,
   "metadata": {},
   "outputs": [
    {
     "name": "stdout",
     "output_type": "stream",
     "text": [
      "Random Forest RMSE: 0.1356\n"
     ]
    }
   ],
   "source": [
    "print(\"Random Forest RMSE: %0.4f\" %rmsle_cv(grid_rf).mean())"
   ]
  },
  {
   "cell_type": "code",
   "execution_count": 95,
   "metadata": {},
   "outputs": [
    {
     "name": "stdout",
     "output_type": "stream",
     "text": [
      "Random Forest RMSE: 0.1795\n"
     ]
    }
   ],
   "source": [
    "print(\"Random XGBoost RMSE: %0.4f\" %np.sqrt(0.03222367061104697))"
   ]
  },
  {
   "cell_type": "markdown",
   "metadata": {},
   "source": [
    "### Plotting Alphas"
   ]
  },
  {
   "cell_type": "code",
   "execution_count": 134,
   "metadata": {},
   "outputs": [
    {
     "data": {
      "image/png": "[encoded data removed]",
      "text/plain": [
       "<Figure size 432x288 with 1 Axes>"
      ]
     },
     "metadata": {
      "needs_background": "light"
     },
     "output_type": "display_data"
    }
   ],
   "source": [
    "#Ridge\n",
    "alphas = [i for i in range(1,20)]\n",
    "\n",
    "plt.plot(alphas, (-1*grid_ridge.cv_results_['mean_test_score']), 'k', grid_ridge.best_params_[\"alpha\"], -grid_ridge.best_score_, 'rv')\n",
    "plt.title('Mean_Square_Error for Alpha Range')\n",
    "plt.ylabel('Mean_Square_Error')\n",
    "plt.xlabel('Alpha')\n",
    "plt.show()"
   ]
  },
  {
   "cell_type": "code",
   "execution_count": 137,
   "metadata": {},
   "outputs": [
    {
     "data": {
      "text/plain": [
       "array([-0.01296263, -0.0126458 , -0.01248483, -0.01239342, -0.01238048,\n",
       "       -0.01240048, -0.01242409, -0.01245696, -0.01251272, -0.0125931 ,\n",
       "       -0.01259326, -0.0124403 , -0.01247008, -0.01253625, -0.01267156,\n",
       "       -0.01287953, -0.01312843, -0.01332371, -0.01349828, -0.01366834,\n",
       "       -0.01252608, -0.01253307, -0.01266699, -0.01293927, -0.0132784 ,\n",
       "       -0.01353508, -0.01379328, -0.01406802, -0.0143821 , -0.01464742,\n",
       "       -0.01252869, -0.01267131, -0.01299637, -0.01340794, -0.01374436,\n",
       "       -0.01410466, -0.01452113, -0.01485491, -0.01519844, -0.0155644 ,\n",
       "       -0.0125888 , -0.01286943, -0.01336577, -0.01378231, -0.01423947,\n",
       "       -0.01473295, -0.01515211, -0.01560787, -0.01597392, -0.01627943,\n",
       "       -0.01268413, -0.01310814, -0.01365328, -0.01417764, -0.01477273,\n",
       "       -0.01528049, -0.01580855, -0.01619323, -0.0165466 , -0.01687231,\n",
       "       -0.01276682, -0.01335781, -0.01394343, -0.01462211, -0.01523117,\n",
       "       -0.01584663, -0.01628964, -0.01668957, -0.01706447, -0.0174643 ,\n",
       "       -0.01286814, -0.01357178, -0.01425277, -0.01501956, -0.01572744,\n",
       "       -0.01626397, -0.01672085, -0.0171461 , -0.0175978 , -0.01794106,\n",
       "       -0.01297614, -0.01377256, -0.01458544, -0.01539533, -0.01611898,\n",
       "       -0.01664395, -0.01711691, -0.01761629, -0.01799151, -0.01823563,\n",
       "       -0.01309842, -0.01397581, -0.01491567, -0.01579866, -0.01644542,\n",
       "       -0.01698678, -0.01752433, -0.01796594, -0.01824394, -0.01841979])"
      ]
     },
     "execution_count": 137,
     "metadata": {},
     "output_type": "execute_result"
    }
   ],
   "source": [
    "grid_elastic.cv_results_[\"mean_test_score\"]"
   ]
  },
  {
   "cell_type": "code",
   "execution_count": 139,
   "metadata": {},
   "outputs": [
    {
     "data": {
      "text/plain": [
       "[0.001, 0.002, 0.003, 0.004, 0.005, 0.006, 0.007, 0.008, 0.009, 0.01]"
      ]
     },
     "execution_count": 139,
     "metadata": {},
     "output_type": "execute_result"
    }
   ],
   "source": [
    "alphas"
   ]
  },
  {
   "cell_type": "code",
   "execution_count": 147,
   "metadata": {},
   "outputs": [
    {
     "data": {
      "image/png": "[encoded data removed]",
      "text/plain": [
       "<Figure size 432x288 with 1 Axes>"
      ]
     },
     "metadata": {
      "needs_background": "light"
     },
     "output_type": "display_data"
    }
   ],
   "source": [
    "#Elastic Net\n",
    "alphas = [i/10000 for i in range(5,15)]\n",
    "\n",
    "plt.plot(alphas, (-1*grid_elastic.cv_results_['mean_test_score']), 'k', grid_elastic.best_params_[\"alpha\"], -grid_elastic.best_score_, 'rv')\n",
    "plt.title('Mean_Square_Error for Alpha Range')\n",
    "plt.ylabel('Mean_Square_Error')\n",
    "plt.xlabel('Alpha')\n",
    "plt.show()"
   ]
  },
  {
   "cell_type": "code",
   "execution_count": null,
   "metadata": {},
   "outputs": [],
   "source": []
  }
 ],
 "metadata": {
  "kernelspec": {
   "display_name": "Python 3",
   "language": "python",
   "name": "python3"
  },
  "language_info": {
   "codemirror_mode": {
    "name": "ipython",
    "version": 3
   },
   "file_extension": ".py",
   "mimetype": "text/x-python",
   "name": "python",
   "nbconvert_exporter": "python",
   "pygments_lexer": "ipython3",
   "version": "3.7.0"
  }
 },
 "nbformat": 4,
 "nbformat_minor": 2
}
